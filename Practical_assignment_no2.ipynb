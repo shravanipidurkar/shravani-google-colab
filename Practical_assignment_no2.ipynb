{
  "nbformat": 4,
  "nbformat_minor": 0,
  "metadata": {
    "colab": {
      "provenance": [],
      "authorship_tag": "ABX9TyMq2l7ghfFF+PeiZp/eaUkC",
      "include_colab_link": true
    },
    "kernelspec": {
      "name": "python3",
      "display_name": "Python 3"
    },
    "language_info": {
      "name": "python"
    }
  },
  "cells": [
    {
      "cell_type": "markdown",
      "metadata": {
        "id": "view-in-github",
        "colab_type": "text"
      },
      "source": [
        "<a href=\"https://colab.research.google.com/github/shravanipidurkar/shravani-google-colab/blob/main/Practical_assignment_no2.ipynb\" target=\"_parent\"><img src=\"https://colab.research.google.com/assets/colab-badge.svg\" alt=\"Open In Colab\"/></a>"
      ]
    },
    {
      "cell_type": "code",
      "execution_count": null,
      "metadata": {
        "colab": {
          "base_uri": "https://localhost:8080/"
        },
        "id": "1N63LCtyJqTW",
        "outputId": "97d08edf-05b2-47ee-cd45-a4d583a2942e"
      },
      "outputs": [
        {
          "output_type": "stream",
          "name": "stdout",
          "text": [
            "<class 'tuple'>\n",
            "\n",
            "Product_details\n",
            " ['Asus Laptop', 'Samsung M31', 'Iphone 14', 'Iphone 14 pro max', 'Asus Laptop', 'Samsung M31', '\"LG TV 42\"\"\"', 'Oppo F21', 'Asus Laptop', 'Samsung M31', '\"LG TV 42\"\"\"', 'Asus Laptop', 'Samsung M31', 'Iphone 14', 'Asus Laptop', 'Iphone 14 pro max', '\"LG TV 42\"\"\"', 'Asus Laptop', 'Samsung M31', '\"LG TV 42\"\"\"']\n",
            "\n",
            "Customer_details\n",
            " ('Avi', 'Aastha', 'Guru', 'Aastha ', 'Avi', 'Shravani', 'Tejaswini', 'Avi', 'Shravani', 'Divya', 'Guru', 'Avi', 'Avi', 'Shravani', 'Aastha', 'Shravani', 'Avi', 'Sukanya', 'Aastha', 'Divya')\n",
            "\n",
            "Supplier_details\n",
            " {'P00001': 'Chroma', 'P00002': 'Vijay Sales', 'P00003': 'Gada Ele.', 'P00004': 'Surya Ele.', 'P00005': 'Chroma', 'P00006': 'Gada Ele.', 'P00007': 'Vijay Sales', 'P00008': 'Surya Ele.', 'P00009': 'Chroma', 'P00010': 'Gada Ele.', 'P00011': 'Surya Ele.', 'P00012': 'Chroma', 'P00013': 'Surya Ele.', 'P00014': 'Chroma', 'P00015': 'Gada Ele.', 'P00016': 'Vijay Sales', 'P00017': 'Deshmukh sales', 'P00018': 'Chroma', 'P00019': 'Deshmukh sales', 'P00020': 'Gada Ele.'}\n",
            "\n",
            "Gender {'Avi': 'Male', 'Aastha': 'Female', 'Guru': 'Male', 'Aastha ': 'Female', 'Shravani': 'Female', 'Tejaswini': 'Female', 'Divya': 'Female', 'Sukanya': 'Female'}\n",
            "\n",
            "Platform of purchasing {'Asus Laptop': 'offline', 'Samsung M31': 'offline', 'Iphone 14': 'online', 'Iphone 14 pro max': 'online', '\"LG TV 42\"\"\"': 'offline', 'Oppo F21': 'offline'}\n",
            "\n",
            "Mode of payment {'Avi': 'Male', 'Aastha': 'Female', 'Guru': 'Male', 'Aastha ': 'Female', 'Shravani': 'Female', 'Tejaswini': 'Female', 'Divya': 'Female', 'Sukanya': 'Female'}{'Asus Laptop': 6, 'Samsung M31': 5, 'Iphone 14': 2, 'Iphone 14 pro max': 2, '\"LG TV 42\"\"\"': 4, 'Oppo F21': 1}\n",
            "{'Asus Laptop': 6, 'Samsung M31': 5, '\"LG TV 42\"\"\"': 4, 'Iphone 14': 2, 'Iphone 14 pro max': 2, 'Oppo F21': 1}\n",
            "The most popular product for sales Asus Laptop sold 6 times\n",
            "{'Chroma': 6, 'Vijay Sales': 3, 'Gada Ele.': 5, 'Surya Ele.': 4, 'Deshmukh sales': 2}\n",
            "{'Chroma': 6, 'Gada Ele.': 5, 'Surya Ele.': 4, 'Vijay Sales': 3, 'Deshmukh sales': 2}\n",
            "The most popular Supplier for sales Chroma sold 6 times\n",
            "frequency is as below:\n",
            " {'Avi': 6, 'Aastha': 3, 'Guru': 2, 'Aastha ': 1, 'Shravani': 4, 'Tejaswini': 1, 'Divya': 2, 'Sukanya': 1}\n",
            "{'Avi': 6, 'Shravani': 4, 'Aastha': 3, 'Guru': 2, 'Divya': 2, 'Aastha ': 1, 'Tejaswini': 1, 'Sukanya': 1}\n",
            "The customer who buys most of the products Avi buy 6 times\n",
            "['Avi', 'Aastha', 'Guru', 'Aastha ', 'Shravani', 'Tejaswini', 'Divya', 'Sukanya']\n",
            "Total number of Male= 2\n",
            "Total number of Female= 6\n",
            "['Asus Laptop', 'Samsung M31', 'Iphone 14', 'Iphone 14 pro max', '\"LG TV 42\"\"\"', 'Oppo F21']\n",
            "Total number of Customer who purchased online is  2\n",
            "Total number of Customer who purchased offline is  4\n",
            "['Asus Laptop', 'Samsung M31', 'Iphone 14', 'Iphone 14 pro max', '\"LG TV 42\"\"\"', 'Oppo F21']\n",
            "Total number of Customer who purchased product using cash is  4\n",
            "Total number of Customer who purchased product using EMI is  1\n",
            "Total number of product purchased 6\n"
          ]
        }
      ],
      "source": [
        "Product_details=[]\n",
        "Supplier_details=dict()\n",
        "Customer_details=[]\n",
        "gender={}\n",
        "platform={}\n",
        "payment={}\n",
        "\n",
        "fp1=open(\"/content/Sales.csv\",\"r\")\n",
        "data=fp1.readline()\n",
        "\n",
        "while(True):\n",
        "\n",
        "  data=fp1.readline()\n",
        "  if not data:\n",
        "    break;\n",
        "  temp=data.split(\",\")\n",
        "  Product_details.append(temp[1])\n",
        "  Customer_details.append(temp[3])\n",
        "  Supplier_details.update({temp[0]:temp[2]})\n",
        "  gender.update({temp[3]:temp[4]})\n",
        "  platform.update({temp[1]:temp[5]})\n",
        "  payment.update({temp[1]:temp[6]})\n",
        "\n",
        "fp1.close()\n",
        "\n",
        "Customer_details=tuple(Customer_details)\n",
        "print(type(Customer_details))\n",
        "\n",
        "print(\"\\nProduct_details\\n\",Product_details,end=\"\")\n",
        "print(\"\\n\\nCustomer_details\\n\",Customer_details,end=\"\")\n",
        "print(\"\\n\\nSupplier_details\\n\",Supplier_details,end=\"\")\n",
        "print(\"\\n\\nGender\",gender,end=\"\")\n",
        "print(\"\\n\\nPlatform of purchasing\",platform,end=\"\")\n",
        "print(\"\\n\\nMode of payment\",gender,end=\"\")\n",
        "\n",
        "frequency={}\n",
        "#1.The most popular product for sales\n",
        "for item in Product_details:\n",
        "  if item in frequency:\n",
        "    frequency[item] +=1\n",
        "  else:\n",
        "    frequency[item] =1\n",
        "print(frequency)\n",
        "marklist = sorted(frequency.items(), key=lambda x:x[1], reverse=True)\n",
        "sortdict = dict(marklist)\n",
        "print(sortdict)\n",
        "print(\"The most popular product for sales\", list(sortdict.keys())[0],\"sold\", list(sortdict.values())[0],\"times\")\n",
        "\n",
        "frequency={}\n",
        "#2.The most popular Supplier for sales\n",
        "for item in Supplier_details.values():\n",
        "  if item in frequency:\n",
        "    frequency[item] +=1\n",
        "  else:\n",
        "    frequency[item] =1\n",
        "print(frequency)\n",
        "marklist = sorted(frequency.items(), key=lambda x:x[1], reverse=True)\n",
        "sortdict = dict(marklist)\n",
        "print(sortdict)\n",
        "print(\"The most popular Supplier for sales\", list(sortdict.keys())[0],\"sold\", list(sortdict.values())[0],\"times\")\n",
        "\n",
        "frequency={}\n",
        "#3.The customer who buys most of the products\n",
        "for item in Customer_details:\n",
        "  if item in frequency:\n",
        "    frequency[item] +=1\n",
        "  else:\n",
        "    frequency[item] =1\n",
        "print(\"frequency is as below:\\n\",frequency)\n",
        "marklist = sorted(frequency.items(), key=lambda x:x[1], reverse=True)\n",
        "sortdict = dict(marklist)\n",
        "print(sortdict)\n",
        "print(\"The customer who buys most of the products\", list(sortdict.keys())[0],\"buy\", list(sortdict.values())[0],\"times\")\n",
        "\n",
        "from collections import Counter\n",
        "counter = dict(Counter(Customer_details))\n",
        "names=list(counter.keys())\n",
        "print(names)\n",
        "male=0\n",
        "female=0\n",
        "\n",
        "for name in names:\n",
        "  if gender[name]==\"Male\":\n",
        "    male=male+1\n",
        "  elif gender[name]==\"Female\":\n",
        "    female+=1\n",
        "#4.the number of customers who are \"Male\"\n",
        "print(\"Total number of Male=\", male)\n",
        "#5.the number of customers who are \"Female\"\n",
        "print(\"Total number of Female=\", female)\n",
        "\n",
        "from collections import Counter\n",
        "counter = dict(Counter(Product_details))\n",
        "names=list(counter.keys())\n",
        "print(names)\n",
        "online=0\n",
        "offline=0\n",
        "\n",
        "for name in names:\n",
        "  if platform[name]==\"online\":\n",
        "    online=online+1\n",
        "  elif platform[name]==\"offline\":\n",
        "    offline+=1\n",
        "#6.the number of Customer who purchased online\n",
        "print(\"Total number of Customer who purchased online is \", online)\n",
        "#7.the number of Customer who purchased offline\n",
        "print(\"Total number of Customer who purchased offline is \", offline)\n",
        "\n",
        "from collections import Counter\n",
        "counter = dict(Counter(Product_details))\n",
        "names=list(counter.keys())\n",
        "print(names)\n",
        "cash=0\n",
        "EMI=0\n",
        "\n",
        "for name in names:\n",
        "  if payment[name]==\"cash\\n\":\n",
        "    cash=cash+1\n",
        "  elif payment[name]==\"EMI\\n\":\n",
        "    EMI+=1\n",
        "#8.The number of Customer who purchased product using cash\n",
        "print(\"Total number of Customer who purchased product using cash is \", cash)\n",
        "#9.The number of Customer who purchased product using EMI\n",
        "print(\"Total number of Customer who purchased product using EMI is \", EMI)\n",
        "#10.Total number of product purchased\n",
        "print(\"Total number of product purchased\", len(names))"
      ]
    },
    {
      "cell_type": "code",
      "source": [
        "from collections import Counter\n",
        "counter = dict(Counter(Product_details))\n",
        "names=list(counter.keys())\n",
        "print(names)\n",
        "online=0\n",
        "offline=0\n",
        "\n",
        "for name in names:\n",
        "  if platform[name]==\"online\":\n",
        "    online=online+1\n",
        "  if platform[name]==\"offline\":\n",
        "    offline+=1\n",
        "print(\"Total number of Customer who purchased online is \", online)\n",
        "print(\"Total number of Customer who purchased offline is \", offline)"
      ],
      "metadata": {
        "colab": {
          "base_uri": "https://localhost:8080/"
        },
        "id": "XOpD4SOAKYD6",
        "outputId": "ea2ad7b1-637d-4026-9d21-e7838bbc44e8"
      },
      "execution_count": null,
      "outputs": [
        {
          "output_type": "stream",
          "name": "stdout",
          "text": [
            "['Asus Laptop', 'Samsung M31', 'Iphone 14', 'Iphone 14 pro max', '\"LG TV 42\"\"\"', 'Oppo F21']\n",
            "Total number of Customer who purchased online is  2\n",
            "Total number of Customer who purchased offline is  4\n"
          ]
        }
      ]
    },
    {
      "cell_type": "code",
      "source": [
        "from collections import Counter\n",
        "counter = dict(Counter(Product_details))\n",
        "names=list(counter.keys())\n",
        "print(names)\n",
        "cash=0\n",
        "EMI=0\n",
        "\n",
        "for name in names:\n",
        "  if payment[name]==\"cash\\n\":\n",
        "    cash=cash+1\n",
        "  if payment[name]==\"EMI\\n\":\n",
        "    EMI+=1\n",
        "print(\"Total number of Customer who purchased product with cash is \", cash)\n",
        "print(\"Total number of Customer who purchased product with EMI is \", EMI)\n",
        "print(len(names))"
      ],
      "metadata": {
        "colab": {
          "base_uri": "https://localhost:8080/"
        },
        "id": "aoZmi5omO2HL",
        "outputId": "9aaf2b98-7c30-4290-f1d8-5e444ec40e93"
      },
      "execution_count": null,
      "outputs": [
        {
          "output_type": "stream",
          "name": "stdout",
          "text": [
            "['Asus Laptop', 'Samsung M31', 'Iphone 14', 'Iphone 14 pro max', '\"LG TV 42\"\"\"', 'Oppo F21']\n",
            "Total number of Customer who purchased product with cash is  4\n",
            "Total number of Customer who purchased product with EMI is  1\n",
            "6\n"
          ]
        }
      ]
    },
    {
      "cell_type": "code",
      "source": [],
      "metadata": {
        "id": "xehRUNQkQzY1"
      },
      "execution_count": null,
      "outputs": []
    }
  ]
}