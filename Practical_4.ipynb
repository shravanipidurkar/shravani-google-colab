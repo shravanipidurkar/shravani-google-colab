{
  "cells": [
    {
      "cell_type": "code",
      "execution_count": null,
      "metadata": {
        "colab": {
          "base_uri": "https://localhost:8080/",
          "height": 1000
        },
        "id": "6_sZfvB3r5Ew",
        "outputId": "0acf612e-fce5-4483-e102-06c60f627487"
      },
      "outputs": [
        {
          "output_type": "display_data",
          "data": {
            "text/plain": [
              "<bound method NDFrame.head of      PassengerId  Survived  Pclass                                      Name  \\\n",
              "5              6         0       3                          Moran, Mr. James   \n",
              "17            18         1       2              Williams, Mr. Charles Eugene   \n",
              "19            20         1       3                   Masselmani, Mrs. Fatima   \n",
              "26            27         0       3                   Emir, Mr. Farred Chehab   \n",
              "28            29         1       3             O'Dwyer, Miss. Ellen \"Nellie\"   \n",
              "..           ...       ...     ...                                       ...   \n",
              "859          860         0       3                          Razi, Mr. Raihed   \n",
              "863          864         0       3         Sage, Miss. Dorothy Edith \"Dolly\"   \n",
              "868          869         0       3               van Melkebeke, Mr. Philemon   \n",
              "878          879         0       3                        Laleff, Mr. Kristo   \n",
              "888          889         0       3  Johnston, Miss. Catherine Helen \"Carrie\"   \n",
              "\n",
              "        Sex  Age     Fare Embarked  \n",
              "5      male  NaN   8.4583        Q  \n",
              "17     male  NaN  13.0000        S  \n",
              "19   female  NaN   7.2250        C  \n",
              "26     male  NaN   7.2250        C  \n",
              "28   female  NaN   7.8792        Q  \n",
              "..      ...  ...      ...      ...  \n",
              "859    male  NaN   7.2292        C  \n",
              "863  female  NaN  69.5500        S  \n",
              "868    male  NaN   9.5000        S  \n",
              "878    male  NaN   7.8958        S  \n",
              "888  female  NaN  23.4500        S  \n",
              "\n",
              "[179 rows x 8 columns]>"
            ]
          },
          "metadata": {}
        },
        {
          "output_type": "stream",
          "name": "stdout",
          "text": [
            "Ward, Miss. Anna paid the highest fare 512.3292\n",
            "Leonard, Mr. Lionel paid the lowest fare 0.0\n",
            "Barkworth, Mr. Algernon Henry Wilson is the oldest passenger 80.0\n",
            "Thomas, Master. Assad Alexander is the youngest passenger 0.42\n",
            "Total number of passenger who survived= 342\n",
            "Total number of passenger who dead= 549\n",
            "Name\n",
            "Abbing, Mr. Anthony                      42.0\n",
            "Abbott, Mr. Rossmore Edward              16.0\n",
            "Abbott, Mrs. Stanton (Rosa Hunt)         35.0\n",
            "Abelson, Mr. Samuel                      30.0\n",
            "Abelson, Mrs. Samuel (Hannah Wizosky)    28.0\n",
            "                                         ... \n",
            "de Mulder, Mr. Theodore                  30.0\n",
            "de Pelsmaeker, Mr. Alfons                16.0\n",
            "del Carlo, Mr. Sebastiano                29.0\n",
            "van Billiard, Mr. Austin Blyler          40.5\n",
            "van Melkebeke, Mr. Philemon               NaN\n",
            "Name: Age, Length: 891, dtype: float64\n",
            "Mean of age is 29.69911764705882\n",
            "Pclass 1 has maximum number of passengers 707\n",
            "Name\n",
            "Abbing, Mr. Anthony                      846.0\n",
            "Abbott, Mr. Rossmore Edward              747.0\n",
            "Abbott, Mrs. Stanton (Rosa Hunt)         280.0\n",
            "Abelson, Mr. Samuel                      309.0\n",
            "Abelson, Mrs. Samuel (Hannah Wizosky)    875.0\n",
            "                                         ...  \n",
            "de Mulder, Mr. Theodore                  287.0\n",
            "de Pelsmaeker, Mr. Alfons                283.0\n",
            "del Carlo, Mr. Sebastiano                362.0\n",
            "van Billiard, Mr. Austin Blyler          154.0\n",
            "van Melkebeke, Mr. Philemon              869.0\n",
            "Name: PassengerId, Length: 891, dtype: float64\n",
            "Median of fare is 14.4542\n"
          ]
        },
        {
          "output_type": "stream",
          "name": "stderr",
          "text": [
            "<ipython-input-7-7ed8eaf8249a>:51: FutureWarning: The default value of numeric_only in DataFrameGroupBy.mean is deprecated. In a future version, numeric_only will default to False. Either specify numeric_only or select only columns which should be valid for the function.\n",
            "  Fare_max=data.groupby(['Name']).mean()\n",
            "<ipython-input-7-7ed8eaf8249a>:75: FutureWarning: The default value of numeric_only in DataFrameGroupBy.sum is deprecated. In a future version, numeric_only will default to False. Either specify numeric_only or select only columns which should be valid for the function.\n",
            "  id=data.groupby(['Name']).sum()\n"
          ]
        }
      ],
      "source": [
        "import numpy as np\n",
        "import pandas as pd\n",
        "\n",
        "data = pd.read_csv('/content/titanic.csv')\n",
        "data\n",
        "# find NAN isna() is same as isnull but does not provides the nulled values\n",
        "nan_df = data[data.isnull().any(axis=1)]\n",
        "display(nan_df.head)\n",
        "\n",
        "data= data.dropna(how=\"all\")\n",
        "data.head()\n",
        "\n",
        "data['Age'] = pd.to_numeric(data['Age'])\n",
        "data['Fare'] = pd.to_numeric(data['Fare'])\n",
        "data\n",
        "\n",
        "#1.\tWho paid highest fare\n",
        "max_fare = data['Fare'].max()\n",
        "i = data['Fare'].argmax()\n",
        "print(data.loc[i].at[\"Name\"], \"paid the highest fare\" ,max_fare)\n",
        "\n",
        "#2.\tWho paid lowest fare\n",
        "min_fare = data['Fare'].min()\n",
        "x = data['Fare'].argmin()\n",
        "print(data.loc[x].at[\"Name\"], \"paid the lowest fare\" ,min_fare)\n",
        "\n",
        "#3. Find oldest passenger in the data\n",
        "max_age = data['Age'].max()\n",
        "i = data['Age'].argmax()\n",
        "print(data.loc[i].at[\"Name\"], \"is the oldest passenger\" ,max_age)\n",
        "\n",
        "#4. Find youngest passenger in the data\n",
        "min_age = data['Age'].min()\n",
        "x = data['Age'].argmin()\n",
        "print(data.loc[x].at[\"Name\"], \"is the youngest passenger\" ,min_age)\n",
        "\n",
        "survive=0\n",
        "dead=0\n",
        "for i in data[\"Survived\"]:\n",
        "   if data.loc[i].at[\"Survived\"]== 1:\n",
        "      survive = survive +1\n",
        "   elif data.loc[i].at[\"Survived\"] == 0:\n",
        "      dead = dead +1\n",
        "#5.the total number of passenger who survived\n",
        "print(\"Total number of passenger who survived=\", survive)\n",
        "\n",
        "#6.the total number of passenger who are no more live\n",
        "print(\"Total number of passenger who dead=\", dead)\n",
        "\n",
        "#7.Calculate the mean of age.\n",
        "Fare_max=data.groupby(['Name']).mean()\n",
        "print(Fare_max['Age'])\n",
        "mean = data['Age'].mean()\n",
        "print(\"Mean of age is\", mean)\n",
        "\n",
        "#8.\tWhich class contain maximum number of passengers and how many?\n",
        "class1=0\n",
        "class2=0\n",
        "class3=0\n",
        "for i in data[\"Pclass\"]:\n",
        "   if data.loc[i].at[\"Pclass\"]== 1:\n",
        "      class1 = class1 +1\n",
        "   elif data.loc[i].at[\"Pclass\"] == 2:\n",
        "      class2 = class2 +1\n",
        "   elif data.loc[i].at[\"Pclass\"] == 3 :\n",
        "      class3 = class3 + 1\n",
        "if (class1>class2 and class1>class3):\n",
        "  print(\"Pclass 1 has maximum number of passengers\", class1)\n",
        "elif (class2>class1 and class2>class3):\n",
        "  print(\"Pclass 2 has maximum number of passengers\", class2)\n",
        "elif (class3>class1 and class3>class2):\n",
        "  print(\"Pclass 3 has maximum number of passengers\", class3)\n",
        "\n",
        "#9. Display Passenger Id who survived\n",
        "id=data.groupby(['Name']).sum()\n",
        "print(Fare_max['PassengerId'])\n",
        "\n",
        "\n",
        "#10. Calculate Median of 'Fare' column\n",
        "median = data['Fare'].median()\n",
        "print(\"Median of fare is\",median)\n",
        "\n"
      ]
    },
    {
      "cell_type": "code",
      "execution_count": null,
      "metadata": {
        "colab": {
          "base_uri": "https://localhost:8080/",
          "height": 423
        },
        "id": "H0uV7AJxFyw0",
        "outputId": "2fc976a3-408d-47f0-d632-fb6600fa2a9f"
      },
      "outputs": [
        {
          "output_type": "execute_result",
          "data": {
            "text/plain": [
              "     PassengerId  Survived  Pclass  \\\n",
              "0              1         0       3   \n",
              "1              2         1       1   \n",
              "2              3         1       3   \n",
              "3              4         1       1   \n",
              "4              5         0       3   \n",
              "..           ...       ...     ...   \n",
              "886          887         0       2   \n",
              "887          888         1       1   \n",
              "888          889         0       3   \n",
              "889          890         1       1   \n",
              "890          891         0       3   \n",
              "\n",
              "                                                  Name     Sex   Age     Fare  \\\n",
              "0                              Braund, Mr. Owen Harris    male  22.0   7.2500   \n",
              "1    Cumings, Mrs. John Bradley (Florence Briggs Th...  female  38.0  71.2833   \n",
              "2                               Heikkinen, Miss. Laina  female  26.0   7.9250   \n",
              "3         Futrelle, Mrs. Jacques Heath (Lily May Peel)  female  35.0  53.1000   \n",
              "4                             Allen, Mr. William Henry    male  35.0   8.0500   \n",
              "..                                                 ...     ...   ...      ...   \n",
              "886                              Montvila, Rev. Juozas    male  27.0  13.0000   \n",
              "887                       Graham, Miss. Margaret Edith  female  19.0  30.0000   \n",
              "888           Johnston, Miss. Catherine Helen \"Carrie\"  female   NaN  23.4500   \n",
              "889                              Behr, Mr. Karl Howell    male  26.0  30.0000   \n",
              "890                                Dooley, Mr. Patrick    male  32.0   7.7500   \n",
              "\n",
              "    Embarked  \n",
              "0          S  \n",
              "1          C  \n",
              "2          S  \n",
              "3          S  \n",
              "4          S  \n",
              "..       ...  \n",
              "886        S  \n",
              "887        S  \n",
              "888        S  \n",
              "889        C  \n",
              "890        Q  \n",
              "\n",
              "[891 rows x 8 columns]"
            ],
            "text/html": [
              "\n",
              "  <div id=\"df-edc58c47-533d-470d-afe4-5ad49d719bb6\">\n",
              "    <div class=\"colab-df-container\">\n",
              "      <div>\n",
              "<style scoped>\n",
              "    .dataframe tbody tr th:only-of-type {\n",
              "        vertical-align: middle;\n",
              "    }\n",
              "\n",
              "    .dataframe tbody tr th {\n",
              "        vertical-align: top;\n",
              "    }\n",
              "\n",
              "    .dataframe thead th {\n",
              "        text-align: right;\n",
              "    }\n",
              "</style>\n",
              "<table border=\"1\" class=\"dataframe\">\n",
              "  <thead>\n",
              "    <tr style=\"text-align: right;\">\n",
              "      <th></th>\n",
              "      <th>PassengerId</th>\n",
              "      <th>Survived</th>\n",
              "      <th>Pclass</th>\n",
              "      <th>Name</th>\n",
              "      <th>Sex</th>\n",
              "      <th>Age</th>\n",
              "      <th>Fare</th>\n",
              "      <th>Embarked</th>\n",
              "    </tr>\n",
              "  </thead>\n",
              "  <tbody>\n",
              "    <tr>\n",
              "      <th>0</th>\n",
              "      <td>1</td>\n",
              "      <td>0</td>\n",
              "      <td>3</td>\n",
              "      <td>Braund, Mr. Owen Harris</td>\n",
              "      <td>male</td>\n",
              "      <td>22.0</td>\n",
              "      <td>7.2500</td>\n",
              "      <td>S</td>\n",
              "    </tr>\n",
              "    <tr>\n",
              "      <th>1</th>\n",
              "      <td>2</td>\n",
              "      <td>1</td>\n",
              "      <td>1</td>\n",
              "      <td>Cumings, Mrs. John Bradley (Florence Briggs Th...</td>\n",
              "      <td>female</td>\n",
              "      <td>38.0</td>\n",
              "      <td>71.2833</td>\n",
              "      <td>C</td>\n",
              "    </tr>\n",
              "    <tr>\n",
              "      <th>2</th>\n",
              "      <td>3</td>\n",
              "      <td>1</td>\n",
              "      <td>3</td>\n",
              "      <td>Heikkinen, Miss. Laina</td>\n",
              "      <td>female</td>\n",
              "      <td>26.0</td>\n",
              "      <td>7.9250</td>\n",
              "      <td>S</td>\n",
              "    </tr>\n",
              "    <tr>\n",
              "      <th>3</th>\n",
              "      <td>4</td>\n",
              "      <td>1</td>\n",
              "      <td>1</td>\n",
              "      <td>Futrelle, Mrs. Jacques Heath (Lily May Peel)</td>\n",
              "      <td>female</td>\n",
              "      <td>35.0</td>\n",
              "      <td>53.1000</td>\n",
              "      <td>S</td>\n",
              "    </tr>\n",
              "    <tr>\n",
              "      <th>4</th>\n",
              "      <td>5</td>\n",
              "      <td>0</td>\n",
              "      <td>3</td>\n",
              "      <td>Allen, Mr. William Henry</td>\n",
              "      <td>male</td>\n",
              "      <td>35.0</td>\n",
              "      <td>8.0500</td>\n",
              "      <td>S</td>\n",
              "    </tr>\n",
              "    <tr>\n",
              "      <th>...</th>\n",
              "      <td>...</td>\n",
              "      <td>...</td>\n",
              "      <td>...</td>\n",
              "      <td>...</td>\n",
              "      <td>...</td>\n",
              "      <td>...</td>\n",
              "      <td>...</td>\n",
              "      <td>...</td>\n",
              "    </tr>\n",
              "    <tr>\n",
              "      <th>886</th>\n",
              "      <td>887</td>\n",
              "      <td>0</td>\n",
              "      <td>2</td>\n",
              "      <td>Montvila, Rev. Juozas</td>\n",
              "      <td>male</td>\n",
              "      <td>27.0</td>\n",
              "      <td>13.0000</td>\n",
              "      <td>S</td>\n",
              "    </tr>\n",
              "    <tr>\n",
              "      <th>887</th>\n",
              "      <td>888</td>\n",
              "      <td>1</td>\n",
              "      <td>1</td>\n",
              "      <td>Graham, Miss. Margaret Edith</td>\n",
              "      <td>female</td>\n",
              "      <td>19.0</td>\n",
              "      <td>30.0000</td>\n",
              "      <td>S</td>\n",
              "    </tr>\n",
              "    <tr>\n",
              "      <th>888</th>\n",
              "      <td>889</td>\n",
              "      <td>0</td>\n",
              "      <td>3</td>\n",
              "      <td>Johnston, Miss. Catherine Helen \"Carrie\"</td>\n",
              "      <td>female</td>\n",
              "      <td>NaN</td>\n",
              "      <td>23.4500</td>\n",
              "      <td>S</td>\n",
              "    </tr>\n",
              "    <tr>\n",
              "      <th>889</th>\n",
              "      <td>890</td>\n",
              "      <td>1</td>\n",
              "      <td>1</td>\n",
              "      <td>Behr, Mr. Karl Howell</td>\n",
              "      <td>male</td>\n",
              "      <td>26.0</td>\n",
              "      <td>30.0000</td>\n",
              "      <td>C</td>\n",
              "    </tr>\n",
              "    <tr>\n",
              "      <th>890</th>\n",
              "      <td>891</td>\n",
              "      <td>0</td>\n",
              "      <td>3</td>\n",
              "      <td>Dooley, Mr. Patrick</td>\n",
              "      <td>male</td>\n",
              "      <td>32.0</td>\n",
              "      <td>7.7500</td>\n",
              "      <td>Q</td>\n",
              "    </tr>\n",
              "  </tbody>\n",
              "</table>\n",
              "<p>891 rows × 8 columns</p>\n",
              "</div>\n",
              "      <button class=\"colab-df-convert\" onclick=\"convertToInteractive('df-edc58c47-533d-470d-afe4-5ad49d719bb6')\"\n",
              "              title=\"Convert this dataframe to an interactive table.\"\n",
              "              style=\"display:none;\">\n",
              "        \n",
              "  <svg xmlns=\"http://www.w3.org/2000/svg\" height=\"24px\"viewBox=\"0 0 24 24\"\n",
              "       width=\"24px\">\n",
              "    <path d=\"M0 0h24v24H0V0z\" fill=\"none\"/>\n",
              "    <path d=\"M18.56 5.44l.94 2.06.94-2.06 2.06-.94-2.06-.94-.94-2.06-.94 2.06-2.06.94zm-11 1L8.5 8.5l.94-2.06 2.06-.94-2.06-.94L8.5 2.5l-.94 2.06-2.06.94zm10 10l.94 2.06.94-2.06 2.06-.94-2.06-.94-.94-2.06-.94 2.06-2.06.94z\"/><path d=\"M17.41 7.96l-1.37-1.37c-.4-.4-.92-.59-1.43-.59-.52 0-1.04.2-1.43.59L10.3 9.45l-7.72 7.72c-.78.78-.78 2.05 0 2.83L4 21.41c.39.39.9.59 1.41.59.51 0 1.02-.2 1.41-.59l7.78-7.78 2.81-2.81c.8-.78.8-2.07 0-2.86zM5.41 20L4 18.59l7.72-7.72 1.47 1.35L5.41 20z\"/>\n",
              "  </svg>\n",
              "      </button>\n",
              "      \n",
              "  <style>\n",
              "    .colab-df-container {\n",
              "      display:flex;\n",
              "      flex-wrap:wrap;\n",
              "      gap: 12px;\n",
              "    }\n",
              "\n",
              "    .colab-df-convert {\n",
              "      background-color: #E8F0FE;\n",
              "      border: none;\n",
              "      border-radius: 50%;\n",
              "      cursor: pointer;\n",
              "      display: none;\n",
              "      fill: #1967D2;\n",
              "      height: 32px;\n",
              "      padding: 0 0 0 0;\n",
              "      width: 32px;\n",
              "    }\n",
              "\n",
              "    .colab-df-convert:hover {\n",
              "      background-color: #E2EBFA;\n",
              "      box-shadow: 0px 1px 2px rgba(60, 64, 67, 0.3), 0px 1px 3px 1px rgba(60, 64, 67, 0.15);\n",
              "      fill: #174EA6;\n",
              "    }\n",
              "\n",
              "    [theme=dark] .colab-df-convert {\n",
              "      background-color: #3B4455;\n",
              "      fill: #D2E3FC;\n",
              "    }\n",
              "\n",
              "    [theme=dark] .colab-df-convert:hover {\n",
              "      background-color: #434B5C;\n",
              "      box-shadow: 0px 1px 3px 1px rgba(0, 0, 0, 0.15);\n",
              "      filter: drop-shadow(0px 1px 2px rgba(0, 0, 0, 0.3));\n",
              "      fill: #FFFFFF;\n",
              "    }\n",
              "  </style>\n",
              "\n",
              "      <script>\n",
              "        const buttonEl =\n",
              "          document.querySelector('#df-edc58c47-533d-470d-afe4-5ad49d719bb6 button.colab-df-convert');\n",
              "        buttonEl.style.display =\n",
              "          google.colab.kernel.accessAllowed ? 'block' : 'none';\n",
              "\n",
              "        async function convertToInteractive(key) {\n",
              "          const element = document.querySelector('#df-edc58c47-533d-470d-afe4-5ad49d719bb6');\n",
              "          const dataTable =\n",
              "            await google.colab.kernel.invokeFunction('convertToInteractive',\n",
              "                                                     [key], {});\n",
              "          if (!dataTable) return;\n",
              "\n",
              "          const docLinkHtml = 'Like what you see? Visit the ' +\n",
              "            '<a target=\"_blank\" href=https://colab.research.google.com/notebooks/data_table.ipynb>data table notebook</a>'\n",
              "            + ' to learn more about interactive tables.';\n",
              "          element.innerHTML = '';\n",
              "          dataTable['output_type'] = 'display_data';\n",
              "          await google.colab.output.renderOutput(dataTable, element);\n",
              "          const docLink = document.createElement('div');\n",
              "          docLink.innerHTML = docLinkHtml;\n",
              "          element.appendChild(docLink);\n",
              "        }\n",
              "      </script>\n",
              "    </div>\n",
              "  </div>\n",
              "  "
            ]
          },
          "metadata": {},
          "execution_count": 3
        }
      ],
      "source": [
        "data['Age'] = pd.to_numeric(data['Age'])\n",
        "data['Fare'] = pd.to_numeric(data['Fare'])\n",
        "data"
      ]
    },
    {
      "cell_type": "code",
      "execution_count": null,
      "metadata": {
        "colab": {
          "base_uri": "https://localhost:8080/"
        },
        "id": "S9fuEn_oSfag",
        "outputId": "24018714-2e1b-4762-a180-9983ecc44609"
      },
      "outputs": [
        {
          "output_type": "stream",
          "name": "stdout",
          "text": [
            "Highest fare paid is 512.3292 by Ward, Miss. Anna\n"
          ]
        }
      ],
      "source": [
        "#1.\tWho paid highest fare\n",
        "maxValue = data['Fare'].max()\n",
        "i = data['Fare'].argmax()\n",
        "print(\"Highest fare paid is\", maxValue ,\"by\" , data.loc[i].at[\"Name\"])\n"
      ]
    },
    {
      "cell_type": "code",
      "source": [
        "#2.\tWho paid lowest fare\n",
        "min_fare = data['Fare'].min()\n",
        "x = data['Fare'].argmax()\n",
        "print(data.loc[x].at[\"Name\"], \"paid the lowest fare\" ,min_fare)"
      ],
      "metadata": {
        "colab": {
          "base_uri": "https://localhost:8080/"
        },
        "id": "VpY_3CKdUmO6",
        "outputId": "68a5b5c4-4bb0-4633-e82c-9d11ee01375c"
      },
      "execution_count": null,
      "outputs": [
        {
          "output_type": "stream",
          "name": "stdout",
          "text": [
            "Ward, Miss. Anna paid the lowest fare 0.0\n"
          ]
        }
      ]
    },
    {
      "cell_type": "code",
      "source": [
        "#3. Find oldest passenger in the data\n",
        "max_age = data['Age'].max()\n",
        "i = data['Age'].argmax()\n",
        "print(data.loc[i].at[\"Name\"], \"is the oldest passenger\" ,max_age)\n"
      ],
      "metadata": {
        "colab": {
          "base_uri": "https://localhost:8080/"
        },
        "id": "v6WcvH0fUoNY",
        "outputId": "9d7788e8-63d7-4fd4-d94a-eeef2a94b273"
      },
      "execution_count": null,
      "outputs": [
        {
          "output_type": "stream",
          "name": "stdout",
          "text": [
            "Barkworth, Mr. Algernon Henry Wilson is the oldest passenger 80.0\n"
          ]
        }
      ]
    },
    {
      "cell_type": "code",
      "source": [
        "#4. Find youngest passenger in the data\n",
        "min_age = data['Age'].min()\n",
        "x = data['Age'].argmax()\n",
        "print(data.loc[i].at[\"Name\"], \"is the youngest passenger\" ,min_age)"
      ],
      "metadata": {
        "colab": {
          "base_uri": "https://localhost:8080/"
        },
        "id": "4suJs0ZgUuQe",
        "outputId": "97534d2c-9b59-437c-816e-3a30dc050085"
      },
      "execution_count": null,
      "outputs": [
        {
          "output_type": "stream",
          "name": "stdout",
          "text": [
            "Barkworth, Mr. Algernon Henry Wilson is the youngest passenger 0.42\n"
          ]
        }
      ]
    },
    {
      "cell_type": "code",
      "source": [
        "survive=0\n",
        "dead=0\n",
        "for i in data[\"Survived\"]:\n",
        "   if data.loc[i].at[\"Survived\"]== 1:\n",
        "      survive = survive +1\n",
        "   elif data.loc[i].at[\"Survived\"] == 0:\n",
        "      dead = dead +1\n",
        "#5.the total number of passenger who survived\n",
        "print(\"Total number of passenger who survived=\", survive)\n",
        "\n",
        "#6.the total number of passenger who are no more live\n",
        "\n",
        "print(\"Total number of passenger who dead=\", dead)\n"
      ],
      "metadata": {
        "colab": {
          "base_uri": "https://localhost:8080/"
        },
        "id": "GxGPm1Z-U28i",
        "outputId": "77e61038-6902-4f55-8ba4-28ec20e22a22"
      },
      "execution_count": null,
      "outputs": [
        {
          "output_type": "stream",
          "name": "stdout",
          "text": [
            "Total number of passenger who survived= 342\n",
            "Total number of passenger who dead= 549\n"
          ]
        }
      ]
    },
    {
      "cell_type": "code",
      "source": [
        "#7.Calculate the mean of age.\n",
        "Fare_max=data.groupby(['Name']).mean()\n",
        "print(Fare_max['Age'])\n",
        "mean = data['Age'].mean()\n",
        "print(\"Mean of age is\", mean)"
      ],
      "metadata": {
        "colab": {
          "base_uri": "https://localhost:8080/"
        },
        "id": "0ikDvwSwVBTQ",
        "outputId": "c2ea8105-e175-4645-aaf4-9fd2a26e3ba1"
      },
      "execution_count": null,
      "outputs": [
        {
          "output_type": "stream",
          "name": "stdout",
          "text": [
            "Name\n",
            "Abbing, Mr. Anthony                      42.0\n",
            "Abbott, Mr. Rossmore Edward              16.0\n",
            "Abbott, Mrs. Stanton (Rosa Hunt)         35.0\n",
            "Abelson, Mr. Samuel                      30.0\n",
            "Abelson, Mrs. Samuel (Hannah Wizosky)    28.0\n",
            "                                         ... \n",
            "de Mulder, Mr. Theodore                  30.0\n",
            "de Pelsmaeker, Mr. Alfons                16.0\n",
            "del Carlo, Mr. Sebastiano                29.0\n",
            "van Billiard, Mr. Austin Blyler          40.5\n",
            "van Melkebeke, Mr. Philemon               NaN\n",
            "Name: Age, Length: 891, dtype: float64\n",
            "Mean of age is 29.69911764705882\n"
          ]
        },
        {
          "output_type": "stream",
          "name": "stderr",
          "text": [
            "<ipython-input-80-46dbced4e84a>:2: FutureWarning: The default value of numeric_only in DataFrameGroupBy.mean is deprecated. In a future version, numeric_only will default to False. Either specify numeric_only or select only columns which should be valid for the function.\n",
            "  Fare_max=data.groupby(['Name']).mean()\n"
          ]
        }
      ]
    },
    {
      "cell_type": "code",
      "source": [
        "#8.\tWhich class contain maximum number of passengers and how many?\n",
        "class1=0\n",
        "class2=0\n",
        "class3=0\n",
        "for i in data[\"Pclass\"]:\n",
        "   if data.loc[i].at[\"Pclass\"]== 1:\n",
        "      class1 = class1 +1\n",
        "   elif data.loc[i].at[\"Pclass\"] == 2:\n",
        "      class2 = class2 +1\n",
        "   elif data.loc[i].at[\"Pclass\"] == 3 :\n",
        "      class3 = class3 + 1\n",
        "if (class1>class2 and class1>class3):\n",
        "  print(\"Pclass 1 has maximum number of passengers\", class1)\n",
        "elif (class2>class1 and class2>class3):\n",
        "  print(\"Pclass 2 has maximum number of passengers\", class2)\n",
        "elif (class3>class1 and class3>class2):\n",
        "  print(\"Pclass 3 has maximum number of passengers\", class3)\n"
      ],
      "metadata": {
        "id": "WXS16r1F6REx",
        "colab": {
          "base_uri": "https://localhost:8080/"
        },
        "outputId": "cc02967e-1176-406e-ff19-768e4050c68a"
      },
      "execution_count": null,
      "outputs": [
        {
          "output_type": "stream",
          "name": "stdout",
          "text": [
            "Pclass 1 has maximum number of passengers 707\n"
          ]
        }
      ]
    },
    {
      "cell_type": "code",
      "source": [
        "#9. Display Passenger Id who survived\n",
        "id=data.groupby(['Name']).sum()\n",
        "print(Fare_max['PassengerId'])\n"
      ],
      "metadata": {
        "colab": {
          "base_uri": "https://localhost:8080/"
        },
        "id": "9kdyWpqnUtfZ",
        "outputId": "7ced03f6-9c0d-471e-8112-c72f7b6796fc"
      },
      "execution_count": null,
      "outputs": [
        {
          "output_type": "stream",
          "name": "stdout",
          "text": [
            "Name\n",
            "Abbing, Mr. Anthony                      846.0\n",
            "Abbott, Mr. Rossmore Edward              747.0\n",
            "Abbott, Mrs. Stanton (Rosa Hunt)         280.0\n",
            "Abelson, Mr. Samuel                      309.0\n",
            "Abelson, Mrs. Samuel (Hannah Wizosky)    875.0\n",
            "                                         ...  \n",
            "de Mulder, Mr. Theodore                  287.0\n",
            "de Pelsmaeker, Mr. Alfons                283.0\n",
            "del Carlo, Mr. Sebastiano                362.0\n",
            "van Billiard, Mr. Austin Blyler          154.0\n",
            "van Melkebeke, Mr. Philemon              869.0\n",
            "Name: PassengerId, Length: 891, dtype: float64\n"
          ]
        },
        {
          "output_type": "stream",
          "name": "stderr",
          "text": [
            "<ipython-input-81-056dc11a8397>:2: FutureWarning: The default value of numeric_only in DataFrameGroupBy.sum is deprecated. In a future version, numeric_only will default to False. Either specify numeric_only or select only columns which should be valid for the function.\n",
            "  id=data.groupby(['Name']).sum()\n"
          ]
        }
      ]
    },
    {
      "cell_type": "code",
      "source": [
        "#10. Calculate Median of 'Fare' column\n",
        "median = data['Fare'].median()\n",
        "print(\"Median of fare is\",median)"
      ],
      "metadata": {
        "colab": {
          "base_uri": "https://localhost:8080/"
        },
        "id": "us8PE4GyN33-",
        "outputId": "1c3b6447-855c-4bbd-c55d-9de79ddf77ce"
      },
      "execution_count": null,
      "outputs": [
        {
          "output_type": "stream",
          "name": "stdout",
          "text": [
            "Median of fare is 14.4542\n"
          ]
        }
      ]
    },
    {
      "cell_type": "code",
      "source": [
        "import numpy as np\n",
        "import pandas as pd\n",
        "\n",
        "data = pd.read_csv('/content/titanic.csv')\n",
        "data\n",
        "# find NAN isna() is same as isnull but does not provides the nulled values\n",
        "nan_df = data[data.isnull().any(axis=1)]\n",
        "display(nan_df.head)\n",
        "\n",
        "data= data.dropna(how=\"all\")\n",
        "data.head()"
      ],
      "metadata": {
        "colab": {
          "base_uri": "https://localhost:8080/",
          "height": 779
        },
        "id": "IhQT7nmIVWTp",
        "outputId": "d0ac1f01-6624-4aeb-abee-7310d5fbbf35"
      },
      "execution_count": null,
      "outputs": [
        {
          "output_type": "display_data",
          "data": {
            "text/plain": [
              "<bound method NDFrame.head of      PassengerId  Survived  Pclass                                      Name  \\\n",
              "5              6         0       3                          Moran, Mr. James   \n",
              "17            18         1       2              Williams, Mr. Charles Eugene   \n",
              "19            20         1       3                   Masselmani, Mrs. Fatima   \n",
              "26            27         0       3                   Emir, Mr. Farred Chehab   \n",
              "28            29         1       3             O'Dwyer, Miss. Ellen \"Nellie\"   \n",
              "..           ...       ...     ...                                       ...   \n",
              "859          860         0       3                          Razi, Mr. Raihed   \n",
              "863          864         0       3         Sage, Miss. Dorothy Edith \"Dolly\"   \n",
              "868          869         0       3               van Melkebeke, Mr. Philemon   \n",
              "878          879         0       3                        Laleff, Mr. Kristo   \n",
              "888          889         0       3  Johnston, Miss. Catherine Helen \"Carrie\"   \n",
              "\n",
              "     Gender  Age     Fare Embarked  \n",
              "5      male  NaN   8.4583        Q  \n",
              "17     male  NaN  13.0000        S  \n",
              "19   female  NaN   7.2250        C  \n",
              "26     male  NaN   7.2250        C  \n",
              "28   female  NaN   7.8792        Q  \n",
              "..      ...  ...      ...      ...  \n",
              "859    male  NaN   7.2292        C  \n",
              "863  female  NaN  69.5500        S  \n",
              "868    male  NaN   9.5000        S  \n",
              "878    male  NaN   7.8958        S  \n",
              "888  female  NaN  23.4500        S  \n",
              "\n",
              "[179 rows x 8 columns]>"
            ]
          },
          "metadata": {}
        },
        {
          "output_type": "execute_result",
          "data": {
            "text/plain": [
              "   PassengerId  Survived  Pclass  \\\n",
              "0            1         0       3   \n",
              "1            2         1       1   \n",
              "2            3         1       3   \n",
              "3            4         1       1   \n",
              "4            5         0       3   \n",
              "\n",
              "                                                Name  Gender   Age     Fare  \\\n",
              "0                            Braund, Mr. Owen Harris    male  22.0   7.2500   \n",
              "1  Cumings, Mrs. John Bradley (Florence Briggs Th...  female  38.0  71.2833   \n",
              "2                             Heikkinen, Miss. Laina  female  26.0   7.9250   \n",
              "3       Futrelle, Mrs. Jacques Heath (Lily May Peel)  female  35.0  53.1000   \n",
              "4                           Allen, Mr. William Henry    male  35.0   8.0500   \n",
              "\n",
              "  Embarked  \n",
              "0        S  \n",
              "1        C  \n",
              "2        S  \n",
              "3        S  \n",
              "4        S  "
            ],
            "text/html": [
              "\n",
              "  <div id=\"df-0ba79c3d-ef69-4bb8-81c5-d7b073fed93d\">\n",
              "    <div class=\"colab-df-container\">\n",
              "      <div>\n",
              "<style scoped>\n",
              "    .dataframe tbody tr th:only-of-type {\n",
              "        vertical-align: middle;\n",
              "    }\n",
              "\n",
              "    .dataframe tbody tr th {\n",
              "        vertical-align: top;\n",
              "    }\n",
              "\n",
              "    .dataframe thead th {\n",
              "        text-align: right;\n",
              "    }\n",
              "</style>\n",
              "<table border=\"1\" class=\"dataframe\">\n",
              "  <thead>\n",
              "    <tr style=\"text-align: right;\">\n",
              "      <th></th>\n",
              "      <th>PassengerId</th>\n",
              "      <th>Survived</th>\n",
              "      <th>Pclass</th>\n",
              "      <th>Name</th>\n",
              "      <th>Gender</th>\n",
              "      <th>Age</th>\n",
              "      <th>Fare</th>\n",
              "      <th>Embarked</th>\n",
              "    </tr>\n",
              "  </thead>\n",
              "  <tbody>\n",
              "    <tr>\n",
              "      <th>0</th>\n",
              "      <td>1</td>\n",
              "      <td>0</td>\n",
              "      <td>3</td>\n",
              "      <td>Braund, Mr. Owen Harris</td>\n",
              "      <td>male</td>\n",
              "      <td>22.0</td>\n",
              "      <td>7.2500</td>\n",
              "      <td>S</td>\n",
              "    </tr>\n",
              "    <tr>\n",
              "      <th>1</th>\n",
              "      <td>2</td>\n",
              "      <td>1</td>\n",
              "      <td>1</td>\n",
              "      <td>Cumings, Mrs. John Bradley (Florence Briggs Th...</td>\n",
              "      <td>female</td>\n",
              "      <td>38.0</td>\n",
              "      <td>71.2833</td>\n",
              "      <td>C</td>\n",
              "    </tr>\n",
              "    <tr>\n",
              "      <th>2</th>\n",
              "      <td>3</td>\n",
              "      <td>1</td>\n",
              "      <td>3</td>\n",
              "      <td>Heikkinen, Miss. Laina</td>\n",
              "      <td>female</td>\n",
              "      <td>26.0</td>\n",
              "      <td>7.9250</td>\n",
              "      <td>S</td>\n",
              "    </tr>\n",
              "    <tr>\n",
              "      <th>3</th>\n",
              "      <td>4</td>\n",
              "      <td>1</td>\n",
              "      <td>1</td>\n",
              "      <td>Futrelle, Mrs. Jacques Heath (Lily May Peel)</td>\n",
              "      <td>female</td>\n",
              "      <td>35.0</td>\n",
              "      <td>53.1000</td>\n",
              "      <td>S</td>\n",
              "    </tr>\n",
              "    <tr>\n",
              "      <th>4</th>\n",
              "      <td>5</td>\n",
              "      <td>0</td>\n",
              "      <td>3</td>\n",
              "      <td>Allen, Mr. William Henry</td>\n",
              "      <td>male</td>\n",
              "      <td>35.0</td>\n",
              "      <td>8.0500</td>\n",
              "      <td>S</td>\n",
              "    </tr>\n",
              "  </tbody>\n",
              "</table>\n",
              "</div>\n",
              "      <button class=\"colab-df-convert\" onclick=\"convertToInteractive('df-0ba79c3d-ef69-4bb8-81c5-d7b073fed93d')\"\n",
              "              title=\"Convert this dataframe to an interactive table.\"\n",
              "              style=\"display:none;\">\n",
              "        \n",
              "  <svg xmlns=\"http://www.w3.org/2000/svg\" height=\"24px\"viewBox=\"0 0 24 24\"\n",
              "       width=\"24px\">\n",
              "    <path d=\"M0 0h24v24H0V0z\" fill=\"none\"/>\n",
              "    <path d=\"M18.56 5.44l.94 2.06.94-2.06 2.06-.94-2.06-.94-.94-2.06-.94 2.06-2.06.94zm-11 1L8.5 8.5l.94-2.06 2.06-.94-2.06-.94L8.5 2.5l-.94 2.06-2.06.94zm10 10l.94 2.06.94-2.06 2.06-.94-2.06-.94-.94-2.06-.94 2.06-2.06.94z\"/><path d=\"M17.41 7.96l-1.37-1.37c-.4-.4-.92-.59-1.43-.59-.52 0-1.04.2-1.43.59L10.3 9.45l-7.72 7.72c-.78.78-.78 2.05 0 2.83L4 21.41c.39.39.9.59 1.41.59.51 0 1.02-.2 1.41-.59l7.78-7.78 2.81-2.81c.8-.78.8-2.07 0-2.86zM5.41 20L4 18.59l7.72-7.72 1.47 1.35L5.41 20z\"/>\n",
              "  </svg>\n",
              "      </button>\n",
              "      \n",
              "  <style>\n",
              "    .colab-df-container {\n",
              "      display:flex;\n",
              "      flex-wrap:wrap;\n",
              "      gap: 12px;\n",
              "    }\n",
              "\n",
              "    .colab-df-convert {\n",
              "      background-color: #E8F0FE;\n",
              "      border: none;\n",
              "      border-radius: 50%;\n",
              "      cursor: pointer;\n",
              "      display: none;\n",
              "      fill: #1967D2;\n",
              "      height: 32px;\n",
              "      padding: 0 0 0 0;\n",
              "      width: 32px;\n",
              "    }\n",
              "\n",
              "    .colab-df-convert:hover {\n",
              "      background-color: #E2EBFA;\n",
              "      box-shadow: 0px 1px 2px rgba(60, 64, 67, 0.3), 0px 1px 3px 1px rgba(60, 64, 67, 0.15);\n",
              "      fill: #174EA6;\n",
              "    }\n",
              "\n",
              "    [theme=dark] .colab-df-convert {\n",
              "      background-color: #3B4455;\n",
              "      fill: #D2E3FC;\n",
              "    }\n",
              "\n",
              "    [theme=dark] .colab-df-convert:hover {\n",
              "      background-color: #434B5C;\n",
              "      box-shadow: 0px 1px 3px 1px rgba(0, 0, 0, 0.15);\n",
              "      filter: drop-shadow(0px 1px 2px rgba(0, 0, 0, 0.3));\n",
              "      fill: #FFFFFF;\n",
              "    }\n",
              "  </style>\n",
              "\n",
              "      <script>\n",
              "        const buttonEl =\n",
              "          document.querySelector('#df-0ba79c3d-ef69-4bb8-81c5-d7b073fed93d button.colab-df-convert');\n",
              "        buttonEl.style.display =\n",
              "          google.colab.kernel.accessAllowed ? 'block' : 'none';\n",
              "\n",
              "        async function convertToInteractive(key) {\n",
              "          const element = document.querySelector('#df-0ba79c3d-ef69-4bb8-81c5-d7b073fed93d');\n",
              "          const dataTable =\n",
              "            await google.colab.kernel.invokeFunction('convertToInteractive',\n",
              "                                                     [key], {});\n",
              "          if (!dataTable) return;\n",
              "\n",
              "          const docLinkHtml = 'Like what you see? Visit the ' +\n",
              "            '<a target=\"_blank\" href=https://colab.research.google.com/notebooks/data_table.ipynb>data table notebook</a>'\n",
              "            + ' to learn more about interactive tables.';\n",
              "          element.innerHTML = '';\n",
              "          dataTable['output_type'] = 'display_data';\n",
              "          await google.colab.output.renderOutput(dataTable, element);\n",
              "          const docLink = document.createElement('div');\n",
              "          docLink.innerHTML = docLinkHtml;\n",
              "          element.appendChild(docLink);\n",
              "        }\n",
              "      </script>\n",
              "    </div>\n",
              "  </div>\n",
              "  "
            ]
          },
          "metadata": {},
          "execution_count": 83
        }
      ]
    },
    {
      "cell_type": "code",
      "source": [],
      "metadata": {
        "id": "sAUY52sfWoeb"
      },
      "execution_count": null,
      "outputs": []
    }
  ],
  "metadata": {
    "colab": {
      "provenance": []
    },
    "kernelspec": {
      "display_name": "Python 3",
      "name": "python3"
    },
    "language_info": {
      "name": "python"
    }
  },
  "nbformat": 4,
  "nbformat_minor": 0
}