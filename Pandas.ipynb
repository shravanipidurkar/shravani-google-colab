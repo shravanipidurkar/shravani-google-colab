{
  "nbformat": 4,
  "nbformat_minor": 0,
  "metadata": {
    "colab": {
      "provenance": [],
      "authorship_tag": "ABX9TyNQIgPZr3EfL2nzkXxWpjOU",
      "include_colab_link": true
    },
    "kernelspec": {
      "name": "python3",
      "display_name": "Python 3"
    },
    "language_info": {
      "name": "python"
    }
  },
  "cells": [
    {
      "cell_type": "markdown",
      "metadata": {
        "id": "view-in-github",
        "colab_type": "text"
      },
      "source": [
        "<a href=\"https://colab.research.google.com/github/shravanipidurkar/shravani-google-colab/blob/main/Pandas.ipynb\" target=\"_parent\"><img src=\"https://colab.research.google.com/assets/colab-badge.svg\" alt=\"Open In Colab\"/></a>"
      ]
    },
    {
      "cell_type": "code",
      "execution_count": null,
      "metadata": {
        "colab": {
          "base_uri": "https://localhost:8080/"
        },
        "id": "kh49vDm1DtZL",
        "outputId": "12673540-8ec9-4ca4-efd2-e59466ff45ba"
      },
      "outputs": [
        {
          "output_type": "stream",
          "name": "stdout",
          "text": [
            "  Batch  Strenth\n",
            "0    C1       21\n",
            "1    C2       19\n",
            "2    C3       21\n",
            "3    C4       23\n"
          ]
        }
      ],
      "source": [
        "import pandas as pd\n",
        "#conversion to DataFrames\n",
        "mydataset = {\n",
        "    'Batch':[\"C1\",\"C2\",\"C3\",\"C4\"],\n",
        "    'Strenth':[21,19,21,23]\n",
        "}\n",
        "df=pd.DataFrame(mydataset)\n",
        "print(df)"
      ]
    },
    {
      "cell_type": "code",
      "source": [
        "#conversion to series\n",
        "import pandas as pd\n",
        "a=[10,20,70]\n",
        "myvar = pd.Series(a)\n",
        "print(myvar)"
      ],
      "metadata": {
        "colab": {
          "base_uri": "https://localhost:8080/"
        },
        "id": "TSoyFLSqFDTx",
        "outputId": "0e7d5806-286b-4a20-c429-298b84a50069"
      },
      "execution_count": null,
      "outputs": [
        {
          "output_type": "stream",
          "name": "stdout",
          "text": [
            "0    10\n",
            "1    20\n",
            "2    70\n",
            "dtype: int64\n"
          ]
        }
      ]
    },
    {
      "cell_type": "code",
      "source": [
        "#converting to series with different index\n",
        "#with the *index* argument, you can name your own index\n",
        "import pandas as pd\n",
        "a=[1,2,3,4,5,6]\n",
        "myvar = pd.Series(a,index=[\"m\",\"n\",\"o\",\"p\",\"q\",\"r\"])\n",
        "print(myvar)"
      ],
      "metadata": {
        "colab": {
          "base_uri": "https://localhost:8080/"
        },
        "id": "I_iSEdQAFVUh",
        "outputId": "b6c78dcd-e1ee-4e55-e144-0c86137156c1"
      },
      "execution_count": null,
      "outputs": [
        {
          "output_type": "stream",
          "name": "stdout",
          "text": [
            "m    1\n",
            "n    2\n",
            "o    3\n",
            "p    4\n",
            "q    5\n",
            "r    6\n",
            "dtype: int64\n"
          ]
        }
      ]
    },
    {
      "cell_type": "code",
      "source": [
        "#dictionary to series\n",
        "import pandas as pd\n",
        "result={\"SIC\":55,\"AM\":60,\"EDS\":66}\n",
        "sr=pd.Series(result)\n",
        "print(sr)"
      ],
      "metadata": {
        "colab": {
          "base_uri": "https://localhost:8080/"
        },
        "id": "mVRSmDVqGr6x",
        "outputId": "8aee6fb9-32ae-4c35-ab86-cf79f5c5587d"
      },
      "execution_count": null,
      "outputs": [
        {
          "output_type": "stream",
          "name": "stdout",
          "text": [
            "SIC    55\n",
            "AM     60\n",
            "EDS    66\n",
            "dtype: int64\n"
          ]
        }
      ]
    },
    {
      "cell_type": "code",
      "source": [
        "#dictionary to series with particular inddex\n",
        "import pandas as pd\n",
        "result={\"SIC\":55,\"AM\":60,\"EDS\":66}\n",
        "sr=pd.Series(result,index=[\"SIC\",\"EDS\"])\n",
        "print(sr)"
      ],
      "metadata": {
        "colab": {
          "base_uri": "https://localhost:8080/"
        },
        "id": "EMQB4aqvHBK5",
        "outputId": "15072ee7-eeca-43bd-9d7a-bd82ffb655ea"
      },
      "execution_count": null,
      "outputs": [
        {
          "output_type": "stream",
          "name": "stdout",
          "text": [
            "SIC    55\n",
            "EDS    66\n",
            "dtype: int64\n"
          ]
        }
      ]
    },
    {
      "cell_type": "code",
      "source": [
        "import pandas as pd\n",
        "data ={\n",
        "    \"Course\": [\"SIC\",\"DT\",\"EDS\",\"ENG\"],\n",
        "    \"Credits\": [4,3,4,2]\n",
        "}\n",
        "#load data into a DdatFrame object:\n",
        "df = pd.DataFrame(data)\n",
        "print(df)"
      ],
      "metadata": {
        "colab": {
          "base_uri": "https://localhost:8080/"
        },
        "id": "WU9Nz-UzIGBC",
        "outputId": "2a80901f-36f7-457a-ae7f-75216b7d32cf"
      },
      "execution_count": null,
      "outputs": [
        {
          "output_type": "stream",
          "name": "stdout",
          "text": [
            "  Course  Credits\n",
            "0    SIC        4\n",
            "1     DT        3\n",
            "2    EDS        4\n",
            "3    ENG        2\n"
          ]
        }
      ]
    },
    {
      "cell_type": "markdown",
      "source": [
        "Pandas use the loc attribute to return one or more specified rows"
      ],
      "metadata": {
        "id": "g-5FhAs6J0Wb"
      }
    },
    {
      "cell_type": "code",
      "source": [
        "print(df.loc[0])"
      ],
      "metadata": {
        "colab": {
          "base_uri": "https://localhost:8080/"
        },
        "id": "tn9Q9-95KEBS",
        "outputId": "388a8881-ce14-4d89-a741-b0f61a64a88c"
      },
      "execution_count": null,
      "outputs": [
        {
          "output_type": "stream",
          "name": "stdout",
          "text": [
            "Course     SIC\n",
            "Credits      4\n",
            "Name: 0, dtype: object\n"
          ]
        }
      ]
    },
    {
      "cell_type": "code",
      "source": [
        "print(df.loc[[1,2]])"
      ],
      "metadata": {
        "colab": {
          "base_uri": "https://localhost:8080/"
        },
        "id": "VnBGcbhCKHrr",
        "outputId": "cfbcfbdd-6da2-4515-a92d-2adcd8ca24f5"
      },
      "execution_count": null,
      "outputs": [
        {
          "output_type": "stream",
          "name": "stdout",
          "text": [
            "  Course  Credits\n",
            "1     DT        3\n",
            "2    EDS        4\n"
          ]
        }
      ]
    },
    {
      "cell_type": "code",
      "source": [
        "import pandas as pd\n",
        "df= pd.read_csv('/content/coffee.csv')\n",
        "print(df)"
      ],
      "metadata": {
        "colab": {
          "base_uri": "https://localhost:8080/"
        },
        "id": "A10PG5y3KqQy",
        "outputId": "e15aeb28-a3ed-41f3-ba04-ea4baef30957"
      },
      "execution_count": null,
      "outputs": [
        {
          "output_type": "stream",
          "name": "stdout",
          "text": [
            "               Country of Origin  Number of Bags Bag Weight  Aroma  Flavor  \\\n",
            "0                       Colombia               1      35 kg   8.58    8.50   \n",
            "1                         Taiwan               1      80 kg   8.50    8.50   \n",
            "2                           Laos              19      25 kg   8.33    8.42   \n",
            "3                     Costa Rica               1      22 kg   8.08    8.17   \n",
            "4                       Colombia               2      24 kg   8.33    8.33   \n",
            "5                      Guatemala               5      30 kg   8.33    8.33   \n",
            "6                         Taiwan               1      27 kg   8.33    8.17   \n",
            "7                         Taiwan               1      90 kg   8.25    8.25   \n",
            "8                         Taiwan               1      30 kg   8.08    8.08   \n",
            "9   Tanzania, United Republic Of             320      60 kg   8.08    8.17   \n",
            "10                      Ethiopia              10      30 kg   8.08    8.25   \n",
            "11                     Guatemala               5      15 kg   8.08    8.00   \n",
            "12                        Taiwan               1      60 kg   8.08    8.00   \n",
            "13                      Ethiopia              40      60 kg   7.67    8.17   \n",
            "14                      Colombia              70      35 kg   8.08    8.00   \n",
            "15                        Taiwan               1      60 kg   8.17    8.08   \n",
            "16                      Ethiopia               8       5 kg   8.17    8.08   \n",
            "17                        Taiwan               5       2 kg   8.00    8.17   \n",
            "18                        Taiwan               8       1 kg   8.08    8.17   \n",
            "19  Tanzania, United Republic Of             200      30 kg   8.17    8.00   \n",
            "20                     Guatemala               8      30 kg   8.00    7.92   \n",
            "21                        Taiwan               1      20 kg   8.08    8.00   \n",
            "22                      Thailand               2       1 kg   7.67    8.00   \n",
            "23                      Colombia               6       5 kg   8.08    8.00   \n",
            "24                        Taiwan               4      50 kg   7.83    8.00   \n",
            "25                        Brazil              25      60 kg   7.83    8.08   \n",
            "26                        Taiwan               1     100 kg   7.92    7.92   \n",
            "27                        Taiwan               1      90 kg   8.17    8.08   \n",
            "28                        Taiwan               1      85 kg   8.00    8.00   \n",
            "29        United States (Hawaii)              80      15 kg   8.00    7.92   \n",
            "30                        Taiwan               3      48 kg   8.00    8.00   \n",
            "31                        Taiwan               3      50 kg   7.92    8.00   \n",
            "32                        Taiwan               4       5 kg   8.08    8.17   \n",
            "33                      Ethiopia             320      60 kg   7.67    7.83   \n",
            "\n",
            "    Aftertaste  Acidity  Balance  Sweetness  Moisture Percentage  \\\n",
            "0         8.42     8.58     8.42         10                 11.8   \n",
            "1         7.92     8.00     8.25         10                 10.5   \n",
            "2         8.08     8.17     8.17         10                 10.4   \n",
            "3         8.17     8.25     8.08         10                 11.8   \n",
            "4         8.08     8.25     7.92         10                 11.6   \n",
            "5         8.25     7.83     8.17         10                 10.7   \n",
            "6         8.08     8.00     8.25         10                  9.1   \n",
            "7         8.17     8.00     8.08         10                 10.0   \n",
            "8         8.25     8.08     8.00         10                 10.8   \n",
            "9         8.08     8.17     8.00         10                 11.0   \n",
            "10        8.00     8.08     7.92         10                 11.8   \n",
            "11        8.00     7.75     8.17         10                 11.5   \n",
            "12        8.08     8.08     8.00         10                 11.9   \n",
            "13        8.00     8.33     8.00         10                 11.6   \n",
            "14        8.08     7.92     8.00         10                 10.6   \n",
            "15        8.00     7.92     7.92         10                 10.2   \n",
            "16        7.92     8.17     7.92         10                 11.3   \n",
            "17        8.00     7.92     7.92         10                 10.3   \n",
            "18        7.75     7.92     8.00         10                 11.0   \n",
            "19        7.92     7.92     7.75         10                 10.0   \n",
            "20        8.08     7.92     8.00         10                 11.6   \n",
            "21        7.92     7.92     7.83         10                 10.4   \n",
            "22        7.83     8.00     8.00         10                  9.8   \n",
            "23        7.83     8.17     7.83         10                 11.3   \n",
            "24        7.92     8.00     7.92         10                 10.6   \n",
            "25        7.83     7.92     7.83         10                 11.3   \n",
            "26        8.00     7.92     7.92         10                  9.1   \n",
            "27        7.92     8.00     7.83         10                 10.6   \n",
            "28        8.00     7.92     7.92         10                 10.2   \n",
            "29        8.00     7.83     8.00         10                  9.3   \n",
            "30        7.83     7.83     7.92         10                 11.4   \n",
            "31        7.83     7.92     7.83         10                 10.8   \n",
            "32        7.67     7.83     7.92         10                 11.3   \n",
            "33        7.83     8.00     8.00         10                  9.9   \n",
            "\n",
            "            Color  Category Two Defects  \n",
            "0           green                     3  \n",
            "1      blue-green                     0  \n",
            "2       yellowish                     2  \n",
            "3           green                     0  \n",
            "4    yellow-green                     2  \n",
            "5           green                     2  \n",
            "6           green                     0  \n",
            "7    yellow green                     1  \n",
            "8        greenish                     0  \n",
            "9        greenish                     0  \n",
            "10       greenish                     1  \n",
            "11       brownish                     1  \n",
            "12          green                     0  \n",
            "13  yellow- green                     2  \n",
            "14          green                     0  \n",
            "15          green                     0  \n",
            "16          green                     2  \n",
            "17   yellow-green                     0  \n",
            "18       brownish                     1  \n",
            "19       greenish                     0  \n",
            "20      yellowish                     0  \n",
            "21          green                     0  \n",
            "22  browish-green                     5  \n",
            "23       brownish                     2  \n",
            "24   bluish-green                     0  \n",
            "25          green                     3  \n",
            "26          green                     2  \n",
            "27          green                     0  \n",
            "28     blue-green                     0  \n",
            "29          green                     0  \n",
            "30   bluish-green                     0  \n",
            "31          green                     0  \n",
            "32          green                     0  \n",
            "33          green                     3  \n"
          ]
        }
      ]
    },
    {
      "cell_type": "code",
      "source": [
        "#to_string method used to print all the data in the file\n",
        "import pandas as pd\n",
        "df= pd.read_csv('/content/coffee.csv')\n",
        "print(df.to_string())"
      ],
      "metadata": {
        "colab": {
          "base_uri": "https://localhost:8080/"
        },
        "id": "3JulBL1hK9MC",
        "outputId": "77aa25e3-4219-4889-b04a-5ae810f8af8f"
      },
      "execution_count": null,
      "outputs": [
        {
          "output_type": "stream",
          "name": "stdout",
          "text": [
            "               Country of Origin  Number of Bags Bag Weight  Aroma  Flavor  Aftertaste  Acidity  Balance  Sweetness  Moisture Percentage          Color  Category Two Defects\n",
            "0                       Colombia               1      35 kg   8.58    8.50        8.42     8.58     8.42         10                 11.8          green                     3\n",
            "1                         Taiwan               1      80 kg   8.50    8.50        7.92     8.00     8.25         10                 10.5     blue-green                     0\n",
            "2                           Laos              19      25 kg   8.33    8.42        8.08     8.17     8.17         10                 10.4      yellowish                     2\n",
            "3                     Costa Rica               1      22 kg   8.08    8.17        8.17     8.25     8.08         10                 11.8          green                     0\n",
            "4                       Colombia               2      24 kg   8.33    8.33        8.08     8.25     7.92         10                 11.6   yellow-green                     2\n",
            "5                      Guatemala               5      30 kg   8.33    8.33        8.25     7.83     8.17         10                 10.7          green                     2\n",
            "6                         Taiwan               1      27 kg   8.33    8.17        8.08     8.00     8.25         10                  9.1          green                     0\n",
            "7                         Taiwan               1      90 kg   8.25    8.25        8.17     8.00     8.08         10                 10.0   yellow green                     1\n",
            "8                         Taiwan               1      30 kg   8.08    8.08        8.25     8.08     8.00         10                 10.8       greenish                     0\n",
            "9   Tanzania, United Republic Of             320      60 kg   8.08    8.17        8.08     8.17     8.00         10                 11.0       greenish                     0\n",
            "10                      Ethiopia              10      30 kg   8.08    8.25        8.00     8.08     7.92         10                 11.8       greenish                     1\n",
            "11                     Guatemala               5      15 kg   8.08    8.00        8.00     7.75     8.17         10                 11.5       brownish                     1\n",
            "12                        Taiwan               1      60 kg   8.08    8.00        8.08     8.08     8.00         10                 11.9          green                     0\n",
            "13                      Ethiopia              40      60 kg   7.67    8.17        8.00     8.33     8.00         10                 11.6  yellow- green                     2\n",
            "14                      Colombia              70      35 kg   8.08    8.00        8.08     7.92     8.00         10                 10.6          green                     0\n",
            "15                        Taiwan               1      60 kg   8.17    8.08        8.00     7.92     7.92         10                 10.2          green                     0\n",
            "16                      Ethiopia               8       5 kg   8.17    8.08        7.92     8.17     7.92         10                 11.3          green                     2\n",
            "17                        Taiwan               5       2 kg   8.00    8.17        8.00     7.92     7.92         10                 10.3   yellow-green                     0\n",
            "18                        Taiwan               8       1 kg   8.08    8.17        7.75     7.92     8.00         10                 11.0       brownish                     1\n",
            "19  Tanzania, United Republic Of             200      30 kg   8.17    8.00        7.92     7.92     7.75         10                 10.0       greenish                     0\n",
            "20                     Guatemala               8      30 kg   8.00    7.92        8.08     7.92     8.00         10                 11.6      yellowish                     0\n",
            "21                        Taiwan               1      20 kg   8.08    8.00        7.92     7.92     7.83         10                 10.4          green                     0\n",
            "22                      Thailand               2       1 kg   7.67    8.00        7.83     8.00     8.00         10                  9.8  browish-green                     5\n",
            "23                      Colombia               6       5 kg   8.08    8.00        7.83     8.17     7.83         10                 11.3       brownish                     2\n",
            "24                        Taiwan               4      50 kg   7.83    8.00        7.92     8.00     7.92         10                 10.6   bluish-green                     0\n",
            "25                        Brazil              25      60 kg   7.83    8.08        7.83     7.92     7.83         10                 11.3          green                     3\n",
            "26                        Taiwan               1     100 kg   7.92    7.92        8.00     7.92     7.92         10                  9.1          green                     2\n",
            "27                        Taiwan               1      90 kg   8.17    8.08        7.92     8.00     7.83         10                 10.6          green                     0\n",
            "28                        Taiwan               1      85 kg   8.00    8.00        8.00     7.92     7.92         10                 10.2     blue-green                     0\n",
            "29        United States (Hawaii)              80      15 kg   8.00    7.92        8.00     7.83     8.00         10                  9.3          green                     0\n",
            "30                        Taiwan               3      48 kg   8.00    8.00        7.83     7.83     7.92         10                 11.4   bluish-green                     0\n",
            "31                        Taiwan               3      50 kg   7.92    8.00        7.83     7.92     7.83         10                 10.8          green                     0\n",
            "32                        Taiwan               4       5 kg   8.08    8.17        7.67     7.83     7.92         10                 11.3          green                     0\n",
            "33                      Ethiopia             320      60 kg   7.67    7.83        7.83     8.00     8.00         10                  9.9          green                     3\n"
          ]
        }
      ]
    },
    {
      "cell_type": "code",
      "source": [
        "#read json file\n",
        "import pandas as pd\n",
        "df =pd.read_json('/content/data.js')\n",
        "print(df)"
      ],
      "metadata": {
        "colab": {
          "base_uri": "https://localhost:8080/"
        },
        "id": "ucKPfOtNNpvL",
        "outputId": "3841f580-fc00-44da-830e-600c4f9390b6"
      },
      "execution_count": null,
      "outputs": [
        {
          "output_type": "stream",
          "name": "stdout",
          "text": [
            "   SIC  EDS  DT\n",
            "0   60   50  30\n",
            "1   60   60  60\n",
            "2   45   30  40\n",
            "3   50   50  50\n",
            "4   45   40  55\n",
            "5   60   60  60\n"
          ]
        }
      ]
    },
    {
      "cell_type": "code",
      "source": [
        "import pandas as pd\n",
        "df =pd.read_json('/content/JSON.js')\n",
        "print(df.to_string())"
      ],
      "metadata": {
        "colab": {
          "base_uri": "https://localhost:8080/"
        },
        "id": "JyoslePEOFG7",
        "outputId": "32cd6dee-5499-4f1e-9c03-9c0455fe42bf"
      },
      "execution_count": null,
      "outputs": [
        {
          "output_type": "stream",
          "name": "stdout",
          "text": [
            "     Duration  Pulse  Maxpulse  Calories\n",
            "0          60    110       130     409.1\n",
            "1          60    117       145     479.0\n",
            "2          60    103       135     340.0\n",
            "3          45    109       175     282.4\n",
            "4          45    117       148     406.0\n",
            "5          60    102       127     300.5\n",
            "6          60    110       136     374.0\n",
            "7          45    104       134     253.3\n",
            "8          30    109       133     195.1\n",
            "9          60     98       124     269.0\n",
            "10         60    103       147     329.3\n",
            "11         60    100       120     250.7\n",
            "12         60    106       128     345.3\n",
            "13         60    104       132     379.3\n",
            "14         60     98       123     275.0\n",
            "15         60     98       120     215.2\n",
            "16         60    100       120     300.0\n",
            "17         45     90       112       NaN\n",
            "18         60    103       123     323.0\n",
            "19         45     97       125     243.0\n",
            "20         60    108       131     364.2\n",
            "21         45    100       119     282.0\n",
            "22         60    130       101     300.0\n",
            "23         45    105       132     246.0\n",
            "24         60    102       126     334.5\n",
            "25         60    100       120     250.0\n",
            "26         60     92       118     241.0\n",
            "27         60    103       132       NaN\n",
            "28         60    100       132     280.0\n",
            "29         60    102       129     380.3\n",
            "30         60     92       115     243.0\n",
            "31         45     90       112     180.1\n",
            "32         60    101       124     299.0\n",
            "33         60     93       113     223.0\n",
            "34         60    107       136     361.0\n",
            "35         60    114       140     415.0\n",
            "36         60    102       127     300.5\n",
            "37         60    100       120     300.1\n",
            "38         60    100       120     300.0\n",
            "39         45    104       129     266.0\n",
            "40         45     90       112     180.1\n",
            "41         60     98       126     286.0\n",
            "42         60    100       122     329.4\n",
            "43         60    111       138     400.0\n",
            "44         60    111       131     397.0\n",
            "45         60     99       119     273.0\n",
            "46         60    109       153     387.6\n",
            "47         45    111       136     300.0\n",
            "48         45    108       129     298.0\n",
            "49         60    111       139     397.6\n",
            "50         60    107       136     380.2\n",
            "51         80    123       146     643.1\n",
            "52         60    106       130     263.0\n",
            "53         60    118       151     486.0\n",
            "54         30    136       175     238.0\n",
            "55         60    121       146     450.7\n",
            "56         60    118       121     413.0\n",
            "57         45    115       144     305.0\n",
            "58         20    153       172     226.4\n",
            "59         45    123       152     321.0\n",
            "60        210    108       160    1376.0\n",
            "61        160    110       137    1034.4\n",
            "62        160    109       135     853.0\n",
            "63         45    118       141     341.0\n",
            "64         20    110       130     131.4\n",
            "65        180     90       130     800.4\n",
            "66        150    105       135     873.4\n",
            "67        150    107       130     816.0\n",
            "68         20    106       136     110.4\n",
            "69        300    108       143    1500.2\n",
            "70        150     97       129    1115.0\n",
            "71         60    109       153     387.6\n",
            "72         90    100       127     700.0\n",
            "73        150     97       127     953.2\n",
            "74         45    114       146     304.0\n",
            "75         90     98       125     563.2\n",
            "76         45    105       134     251.0\n",
            "77         45    110       141     300.0\n",
            "78        120    100       130     500.4\n",
            "79        270    100       131    1729.0\n",
            "80         30    159       182     319.2\n",
            "81         45    149       169     344.0\n",
            "82         30    103       139     151.1\n",
            "83        120    100       130     500.0\n",
            "84         45    100       120     225.3\n",
            "85         30    151       170     300.1\n",
            "86         45    102       136     234.0\n",
            "87        120    100       157    1000.1\n",
            "88         45    129       103     242.0\n",
            "89         20     83       107      50.3\n",
            "90        180    101       127     600.1\n",
            "91         45    107       137       NaN\n",
            "92         30     90       107     105.3\n",
            "93         15     80       100      50.5\n",
            "94         20    150       171     127.4\n",
            "95         20    151       168     229.4\n",
            "96         30     95       128     128.2\n",
            "97         25    152       168     244.2\n",
            "98         30    109       131     188.2\n",
            "99         90     93       124     604.1\n",
            "100        20     95       112      77.7\n",
            "101        90     90       110     500.0\n",
            "102        90     90       100     500.0\n",
            "103        90     90       100     500.4\n",
            "104        30     92       108      92.7\n",
            "105        30     93       128     124.0\n",
            "106       180     90       120     800.3\n",
            "107        30     90       120      86.2\n",
            "108        90     90       120     500.3\n",
            "109       210    137       184    1860.4\n",
            "110        60    102       124     325.2\n",
            "111        45    107       124     275.0\n",
            "112        15    124       139     124.2\n",
            "113        45    100       120     225.3\n",
            "114        60    108       131     367.6\n",
            "115        60    108       151     351.7\n",
            "116        60    116       141     443.0\n",
            "117        60     97       122     277.4\n",
            "118        60    105       125       NaN\n",
            "119        60    103       124     332.7\n",
            "120        30    112       137     193.9\n",
            "121        45    100       120     100.7\n",
            "122        60    119       169     336.7\n",
            "123        60    107       127     344.9\n",
            "124        60    111       151     368.5\n",
            "125        60     98       122     271.0\n",
            "126        60     97       124     275.3\n",
            "127        60    109       127     382.0\n",
            "128        90     99       125     466.4\n",
            "129        60    114       151     384.0\n",
            "130        60    104       134     342.5\n",
            "131        60    107       138     357.5\n",
            "132        60    103       133     335.0\n",
            "133        60    106       132     327.5\n",
            "134        60    103       136     339.0\n",
            "135        20    136       156     189.0\n",
            "136        45    117       143     317.7\n",
            "137        45    115       137     318.0\n",
            "138        45    113       138     308.0\n",
            "139        20    141       162     222.4\n",
            "140        60    108       135     390.0\n",
            "141        60     97       127       NaN\n",
            "142        45    100       120     250.4\n",
            "143        45    122       149     335.4\n",
            "144        60    136       170     470.2\n",
            "145        45    106       126     270.8\n",
            "146        60    107       136     400.0\n",
            "147        60    112       146     361.9\n",
            "148        30    103       127     185.0\n",
            "149        60    110       150     409.4\n",
            "150        60    106       134     343.0\n",
            "151        60    109       129     353.2\n",
            "152        60    109       138     374.0\n",
            "153        30    150       167     275.8\n",
            "154        60    105       128     328.0\n",
            "155        60    111       151     368.5\n",
            "156        60     97       131     270.4\n",
            "157        60    100       120     270.4\n",
            "158        60    114       150     382.8\n",
            "159        30     80       120     240.9\n",
            "160        30     85       120     250.4\n",
            "161        45     90       130     260.4\n",
            "162        45     95       130     270.0\n",
            "163        45    100       140     280.9\n",
            "164        60    105       140     290.8\n",
            "165        60    110       145     300.4\n",
            "166        60    115       145     310.2\n",
            "167        75    120       150     320.4\n",
            "168        75    125       150     330.4\n"
          ]
        }
      ]
    },
    {
      "cell_type": "code",
      "source": [
        "#head gives first five values by defult\n",
        "import pandas as pd\n",
        "df= pd.read_csv('/content/coffee.csv')\n",
        "print(df.head(3))"
      ],
      "metadata": {
        "colab": {
          "base_uri": "https://localhost:8080/"
        },
        "id": "Gnp1G8FIPmxM",
        "outputId": "01292794-816f-4369-c75e-04afdb9ee8a4"
      },
      "execution_count": null,
      "outputs": [
        {
          "output_type": "stream",
          "name": "stdout",
          "text": [
            "  Country of Origin  Number of Bags Bag Weight  Aroma  Flavor  Aftertaste  \\\n",
            "0          Colombia               1      35 kg   8.58    8.50        8.42   \n",
            "1            Taiwan               1      80 kg   8.50    8.50        7.92   \n",
            "2              Laos              19      25 kg   8.33    8.42        8.08   \n",
            "\n",
            "   Acidity  Balance  Sweetness  Moisture Percentage       Color  \\\n",
            "0     8.58     8.42         10                 11.8       green   \n",
            "1     8.00     8.25         10                 10.5  blue-green   \n",
            "2     8.17     8.17         10                 10.4   yellowish   \n",
            "\n",
            "   Category Two Defects  \n",
            "0                     3  \n",
            "1                     0  \n",
            "2                     2  \n"
          ]
        }
      ]
    },
    {
      "cell_type": "code",
      "source": [
        "#tail gives last five values by default\n",
        "import pandas as pd\n",
        "df= pd.read_csv('/content/coffee.csv')\n",
        "print(df.tail(4))"
      ],
      "metadata": {
        "colab": {
          "base_uri": "https://localhost:8080/"
        },
        "id": "N8fx4niCOiqr",
        "outputId": "14e3dc1e-736f-4826-bb0d-4fc49bfeea9c"
      },
      "execution_count": null,
      "outputs": [
        {
          "output_type": "stream",
          "name": "stdout",
          "text": [
            "   Country of Origin  Number of Bags Bag Weight  Aroma  Flavor  Aftertaste  \\\n",
            "30            Taiwan               3      48 kg   8.00    8.00        7.83   \n",
            "31            Taiwan               3      50 kg   7.92    8.00        7.83   \n",
            "32            Taiwan               4       5 kg   8.08    8.17        7.67   \n",
            "33          Ethiopia             320      60 kg   7.67    7.83        7.83   \n",
            "\n",
            "    Acidity  Balance  Sweetness  Moisture Percentage         Color  \\\n",
            "30     7.83     7.92         10                 11.4  bluish-green   \n",
            "31     7.92     7.83         10                 10.8         green   \n",
            "32     7.83     7.92         10                 11.3         green   \n",
            "33     8.00     8.00         10                  9.9         green   \n",
            "\n",
            "    Category Two Defects  \n",
            "30                     0  \n",
            "31                     0  \n",
            "32                     0  \n",
            "33                     3  \n"
          ]
        }
      ]
    },
    {
      "cell_type": "code",
      "source": [
        "#head & tail in json file\n",
        "import pandas as pd\n",
        "df =pd.read_json('/content/data.js')\n",
        "print(df.head(3))\n",
        "print(df.tail(2))"
      ],
      "metadata": {
        "colab": {
          "base_uri": "https://localhost:8080/"
        },
        "id": "LZe4IhwHQXhs",
        "outputId": "10ace125-841c-4b6d-c966-41db710417b7"
      },
      "execution_count": null,
      "outputs": [
        {
          "output_type": "stream",
          "name": "stdout",
          "text": [
            "   SIC  EDS  DT\n",
            "0   60   50  30\n",
            "1   60   60  60\n",
            "2   45   30  40\n",
            "   SIC  EDS  DT\n",
            "4   45   40  55\n",
            "5   60   60  60\n"
          ]
        }
      ]
    },
    {
      "cell_type": "code",
      "source": [
        "all_data=pd.read_csv('/content/alldata.csv')\n",
        "print(all_data)"
      ],
      "metadata": {
        "colab": {
          "base_uri": "https://localhost:8080/"
        },
        "id": "iwxe5o2lXDqd",
        "outputId": "ee506190-ec3c-4393-c9f9-ec41d70bff4a"
      },
      "execution_count": null,
      "outputs": [
        {
          "output_type": "stream",
          "name": "stdout",
          "text": [
            "    Order ID                     Product  Quantity Ordered  Price Each  \\\n",
            "0   176559.0  Bose SoundSport Headphones               1.0       99.99   \n",
            "1   176560.0                Google Phone               1.0      600.00   \n",
            "2   176560.0            Wired Headphones               1.0       11.99   \n",
            "3   176561.0            Wired Headphones               1.0       11.99   \n",
            "4   176562.0        USB-C Charging Cable               1.0       11.95   \n",
            "..       ...                         ...               ...         ...   \n",
            "64  259329.0    Lightning Charging Cable               1.0       14.95   \n",
            "65  259330.0       AA Batteries (4-pack)               2.0        3.84   \n",
            "66  259331.0    Apple Airpods Headphones               1.0      150.00   \n",
            "67  259332.0    Apple Airpods Headphones               1.0      150.00   \n",
            "68  259333.0  Bose SoundSport Headphones               1.0       99.99   \n",
            "\n",
            "          Order Date                        Purchase Address  \n",
            "0   04-07-2019 22:30       682 Chestnut St, Boston, MA 02215  \n",
            "1   04-12-2019 14:38    669 Spruce St, Los Angeles, CA 90001  \n",
            "2   04-12-2019 14:38    669 Spruce St, Los Angeles, CA 90001  \n",
            "3      05/30/19 9:27       333 8th St, Los Angeles, CA 90001  \n",
            "4     04/29/19 13:03  381 Wilson St, San Francisco, CA 94016  \n",
            "..               ...                                     ...  \n",
            "64  09-05-2019 19:00       480 Lincoln St, Atlanta, GA 30301  \n",
            "65    09/25/19 22:01    763 Washington St, Seattle, WA 98101  \n",
            "66     09/29/19 7:00     770 4th St, New York City, NY 10001  \n",
            "67    09/16/19 19:21          782 Lake St, Atlanta, GA 30301  \n",
            "68    09/19/19 18:03   347 Ridge St, San Francisco, CA 94016  \n",
            "\n",
            "[69 rows x 6 columns]\n"
          ]
        }
      ]
    }
  ]
}