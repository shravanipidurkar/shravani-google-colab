{
  "nbformat": 4,
  "nbformat_minor": 0,
  "metadata": {
    "colab": {
      "provenance": [],
      "authorship_tag": "ABX9TyO875L1xOZaCjcC2RqpAJqx",
      "include_colab_link": true
    },
    "kernelspec": {
      "name": "python3",
      "display_name": "Python 3"
    },
    "language_info": {
      "name": "python"
    }
  },
  "cells": [
    {
      "cell_type": "markdown",
      "metadata": {
        "id": "view-in-github",
        "colab_type": "text"
      },
      "source": [
        "<a href=\"https://colab.research.google.com/github/shravanipidurkar/shravani-google-colab/blob/main/practical1.ipynb\" target=\"_parent\"><img src=\"https://colab.research.google.com/assets/colab-badge.svg\" alt=\"Open In Colab\"/></a>"
      ]
    },
    {
      "cell_type": "code",
      "execution_count": null,
      "metadata": {
        "colab": {
          "base_uri": "https://localhost:8080/",
          "height": 485
        },
        "id": "8yvNysb8A531",
        "outputId": "a27f4fe5-a54d-445a-c20c-2bbc72eee7e8"
      },
      "outputs": [
        {
          "output_type": "error",
          "ename": "FileNotFoundError",
          "evalue": "ignored",
          "traceback": [
            "\u001b[0;31m---------------------------------------------------------------------------\u001b[0m",
            "\u001b[0;31mFileNotFoundError\u001b[0m                         Traceback (most recent call last)",
            "\u001b[0;32m<ipython-input-1-4c8f724a8837>\u001b[0m in \u001b[0;36m<cell line: 11>\u001b[0;34m()\u001b[0m\n\u001b[1;32m      9\u001b[0m   \u001b[0mprint\u001b[0m\u001b[0;34m(\u001b[0m\u001b[0;34m\" student4\"\u001b[0m\u001b[0;34m,\u001b[0m\u001b[0md3\u001b[0m\u001b[0;34m[\u001b[0m\u001b[0;36m3\u001b[0m\u001b[0;34m]\u001b[0m\u001b[0;34m[\u001b[0m\u001b[0;36m1\u001b[0m\u001b[0;34m]\u001b[0m\u001b[0;34m)\u001b[0m\u001b[0;34m\u001b[0m\u001b[0;34m\u001b[0m\u001b[0m\n\u001b[1;32m     10\u001b[0m   \u001b[0mprint\u001b[0m\u001b[0;34m(\u001b[0m\u001b[0;34m\" student5\"\u001b[0m\u001b[0;34m,\u001b[0m\u001b[0md3\u001b[0m\u001b[0;34m[\u001b[0m\u001b[0;36m4\u001b[0m\u001b[0;34m]\u001b[0m\u001b[0;34m[\u001b[0m\u001b[0;36m1\u001b[0m\u001b[0;34m]\u001b[0m\u001b[0;34m)\u001b[0m\u001b[0;34m\u001b[0m\u001b[0;34m\u001b[0m\u001b[0m\n\u001b[0;32m---> 11\u001b[0;31m \u001b[0mf1\u001b[0m\u001b[0;34m=\u001b[0m\u001b[0mopen\u001b[0m\u001b[0;34m(\u001b[0m\u001b[0;34m\"/content/student_data.csv\"\u001b[0m\u001b[0;34m,\u001b[0m\u001b[0;34m\"r\"\u001b[0m\u001b[0;34m)\u001b[0m\u001b[0;34m\u001b[0m\u001b[0;34m\u001b[0m\u001b[0m\n\u001b[0m\u001b[1;32m     12\u001b[0m \u001b[0mf2\u001b[0m\u001b[0;34m=\u001b[0m\u001b[0mopen\u001b[0m\u001b[0;34m(\u001b[0m\u001b[0;34m\"/content/result.csv\"\u001b[0m\u001b[0;34m,\u001b[0m\u001b[0;34m\"r\"\u001b[0m\u001b[0;34m)\u001b[0m\u001b[0;34m\u001b[0m\u001b[0;34m\u001b[0m\u001b[0m\n\u001b[1;32m     13\u001b[0m \u001b[0mf3\u001b[0m\u001b[0;34m=\u001b[0m\u001b[0mopen\u001b[0m\u001b[0;34m(\u001b[0m\u001b[0;34m\"StudentsDetails.csv\"\u001b[0m\u001b[0;34m,\u001b[0m\u001b[0;34m\"w\"\u001b[0m\u001b[0;34m)\u001b[0m\u001b[0;34m\u001b[0m\u001b[0;34m\u001b[0m\u001b[0m\n",
            "\u001b[0;31mFileNotFoundError\u001b[0m: [Errno 2] No such file or directory: '/content/student_data.csv'"
          ]
        }
      ],
      "source": [
        "import csv\n",
        "def top_5_stud(d3):\n",
        "  d3.sort(key=lambda x: int(x[3]),reverse=True)\n",
        "  print(\"\\n\\nSorted Data:\",d3)\n",
        "\n",
        "  print(\"\\n\\n student1\",d3[0][1])\n",
        "  print(\" student2\",d3[1][1])\n",
        "  print(\" student3\",d3[2][1])\n",
        "  print(\" student4\",d3[3][1])\n",
        "  print(\" student5\",d3[4][1])\n",
        "f1=open(\"/content/student_data.csv\",\"r\")\n",
        "f2=open(\"/content/result.csv\",\"r\")\n",
        "f3=open(\"StudentsDetails.csv\",\"w\")\n",
        "\n",
        "d1=list(csv.reader(f1,delimiter=','))\n",
        "d2=list(csv.reader(f2,delimiter=','))\n",
        "\n",
        "print(\"\\n\\nFile1 Contents:\",d1)\n",
        "print(\"\\n\\nFile2 Contents:\",d2)\n",
        "d3=[]\n",
        "for i in range(len(d1)):\n",
        "  d3.append(d1[i] + d2[i])\n",
        "\n",
        "print(d3)\n",
        "cw = csv.writer(f3)\n",
        "cw.writerows(d3)\n",
        "\n",
        "top_5_stud(d3)\n",
        "\n",
        "f1.close()\n",
        "f2.close()\n",
        "f3.close()\n",
        "\n",
        "result=[]\n",
        "with open(\"/content/StudentsDetails.csv\",mode=\"r\")as file:\n",
        "  csvfile=csv.reader(file)\n",
        "\n",
        "  for lines in csvfile:\n",
        "    result.append(int(lines[3]))\n",
        "    print(\"maximum Sgpa\",max(result))\n",
        "    print(\"minimum Sgpa\",min(result))\n",
        "    print(\"sum of Sgpa\",sum(result))\n",
        "    print(\"average Sgpa\",sum(result)/len(result))\n",
        "\n",
        "print(result)"
      ]
    },
    {
      "cell_type": "markdown",
      "source": [],
      "metadata": {
        "id": "l3iBV8IHrH01"
      }
    },
    {
      "cell_type": "code",
      "source": [],
      "metadata": {
        "id": "4nBSec8FDYvI"
      },
      "execution_count": null,
      "outputs": []
    }
  ]
}