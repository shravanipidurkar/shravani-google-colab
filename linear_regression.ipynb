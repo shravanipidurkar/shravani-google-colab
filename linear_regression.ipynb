{
  "nbformat": 4,
  "nbformat_minor": 0,
  "metadata": {
    "colab": {
      "provenance": [],
      "authorship_tag": "ABX9TyMkIi6wDmV7j5xMN7RtNPWz",
      "include_colab_link": true
    },
    "kernelspec": {
      "name": "python3",
      "display_name": "Python 3"
    },
    "language_info": {
      "name": "python"
    }
  },
  "cells": [
    {
      "cell_type": "markdown",
      "metadata": {
        "id": "view-in-github",
        "colab_type": "text"
      },
      "source": [
        "<a href=\"https://colab.research.google.com/github/shravanipidurkar/shravani-google-colab/blob/main/linear_regression.ipynb\" target=\"_parent\"><img src=\"https://colab.research.google.com/assets/colab-badge.svg\" alt=\"Open In Colab\"/></a>"
      ]
    },
    {
      "cell_type": "code",
      "execution_count": null,
      "metadata": {
        "colab": {
          "base_uri": "https://localhost:8080/",
          "height": 224
        },
        "id": "UrloMlsBJuNF",
        "outputId": "a7aee177-42e8-476e-8753-a86e2db80610"
      },
      "outputs": [
        {
          "output_type": "stream",
          "name": "stdout",
          "text": [
            "(34, 12)\n"
          ]
        },
        {
          "output_type": "execute_result",
          "data": {
            "text/plain": [
              "  Country of Origin  Number of Bags Bag Weight  Aroma  Flavor  Aftertaste  \\\n",
              "0          Colombia               1      35 kg   8.58    8.50        8.42   \n",
              "1            Taiwan               1      80 kg   8.50    8.50        7.92   \n",
              "2              Laos              19      25 kg   8.33    8.42        8.08   \n",
              "3        Costa Rica               1      22 kg   8.08    8.17        8.17   \n",
              "4          Colombia               2      24 kg   8.33    8.33        8.08   \n",
              "\n",
              "   Acidity  Balance  Sweetness  Moisture Percentage         Color  \\\n",
              "0     8.58     8.42         10                 11.8         green   \n",
              "1     8.00     8.25         10                 10.5    blue-green   \n",
              "2     8.17     8.17         10                 10.4     yellowish   \n",
              "3     8.25     8.08         10                 11.8         green   \n",
              "4     8.25     7.92         10                 11.6  yellow-green   \n",
              "\n",
              "   Category Two Defects  \n",
              "0                     3  \n",
              "1                     0  \n",
              "2                     2  \n",
              "3                     0  \n",
              "4                     2  "
            ],
            "text/html": [
              "\n",
              "  <div id=\"df-5b4bdf13-007d-453d-af84-667633a12277\">\n",
              "    <div class=\"colab-df-container\">\n",
              "      <div>\n",
              "<style scoped>\n",
              "    .dataframe tbody tr th:only-of-type {\n",
              "        vertical-align: middle;\n",
              "    }\n",
              "\n",
              "    .dataframe tbody tr th {\n",
              "        vertical-align: top;\n",
              "    }\n",
              "\n",
              "    .dataframe thead th {\n",
              "        text-align: right;\n",
              "    }\n",
              "</style>\n",
              "<table border=\"1\" class=\"dataframe\">\n",
              "  <thead>\n",
              "    <tr style=\"text-align: right;\">\n",
              "      <th></th>\n",
              "      <th>Country of Origin</th>\n",
              "      <th>Number of Bags</th>\n",
              "      <th>Bag Weight</th>\n",
              "      <th>Aroma</th>\n",
              "      <th>Flavor</th>\n",
              "      <th>Aftertaste</th>\n",
              "      <th>Acidity</th>\n",
              "      <th>Balance</th>\n",
              "      <th>Sweetness</th>\n",
              "      <th>Moisture Percentage</th>\n",
              "      <th>Color</th>\n",
              "      <th>Category Two Defects</th>\n",
              "    </tr>\n",
              "  </thead>\n",
              "  <tbody>\n",
              "    <tr>\n",
              "      <th>0</th>\n",
              "      <td>Colombia</td>\n",
              "      <td>1</td>\n",
              "      <td>35 kg</td>\n",
              "      <td>8.58</td>\n",
              "      <td>8.50</td>\n",
              "      <td>8.42</td>\n",
              "      <td>8.58</td>\n",
              "      <td>8.42</td>\n",
              "      <td>10</td>\n",
              "      <td>11.8</td>\n",
              "      <td>green</td>\n",
              "      <td>3</td>\n",
              "    </tr>\n",
              "    <tr>\n",
              "      <th>1</th>\n",
              "      <td>Taiwan</td>\n",
              "      <td>1</td>\n",
              "      <td>80 kg</td>\n",
              "      <td>8.50</td>\n",
              "      <td>8.50</td>\n",
              "      <td>7.92</td>\n",
              "      <td>8.00</td>\n",
              "      <td>8.25</td>\n",
              "      <td>10</td>\n",
              "      <td>10.5</td>\n",
              "      <td>blue-green</td>\n",
              "      <td>0</td>\n",
              "    </tr>\n",
              "    <tr>\n",
              "      <th>2</th>\n",
              "      <td>Laos</td>\n",
              "      <td>19</td>\n",
              "      <td>25 kg</td>\n",
              "      <td>8.33</td>\n",
              "      <td>8.42</td>\n",
              "      <td>8.08</td>\n",
              "      <td>8.17</td>\n",
              "      <td>8.17</td>\n",
              "      <td>10</td>\n",
              "      <td>10.4</td>\n",
              "      <td>yellowish</td>\n",
              "      <td>2</td>\n",
              "    </tr>\n",
              "    <tr>\n",
              "      <th>3</th>\n",
              "      <td>Costa Rica</td>\n",
              "      <td>1</td>\n",
              "      <td>22 kg</td>\n",
              "      <td>8.08</td>\n",
              "      <td>8.17</td>\n",
              "      <td>8.17</td>\n",
              "      <td>8.25</td>\n",
              "      <td>8.08</td>\n",
              "      <td>10</td>\n",
              "      <td>11.8</td>\n",
              "      <td>green</td>\n",
              "      <td>0</td>\n",
              "    </tr>\n",
              "    <tr>\n",
              "      <th>4</th>\n",
              "      <td>Colombia</td>\n",
              "      <td>2</td>\n",
              "      <td>24 kg</td>\n",
              "      <td>8.33</td>\n",
              "      <td>8.33</td>\n",
              "      <td>8.08</td>\n",
              "      <td>8.25</td>\n",
              "      <td>7.92</td>\n",
              "      <td>10</td>\n",
              "      <td>11.6</td>\n",
              "      <td>yellow-green</td>\n",
              "      <td>2</td>\n",
              "    </tr>\n",
              "  </tbody>\n",
              "</table>\n",
              "</div>\n",
              "      <button class=\"colab-df-convert\" onclick=\"convertToInteractive('df-5b4bdf13-007d-453d-af84-667633a12277')\"\n",
              "              title=\"Convert this dataframe to an interactive table.\"\n",
              "              style=\"display:none;\">\n",
              "        \n",
              "  <svg xmlns=\"http://www.w3.org/2000/svg\" height=\"24px\"viewBox=\"0 0 24 24\"\n",
              "       width=\"24px\">\n",
              "    <path d=\"M0 0h24v24H0V0z\" fill=\"none\"/>\n",
              "    <path d=\"M18.56 5.44l.94 2.06.94-2.06 2.06-.94-2.06-.94-.94-2.06-.94 2.06-2.06.94zm-11 1L8.5 8.5l.94-2.06 2.06-.94-2.06-.94L8.5 2.5l-.94 2.06-2.06.94zm10 10l.94 2.06.94-2.06 2.06-.94-2.06-.94-.94-2.06-.94 2.06-2.06.94z\"/><path d=\"M17.41 7.96l-1.37-1.37c-.4-.4-.92-.59-1.43-.59-.52 0-1.04.2-1.43.59L10.3 9.45l-7.72 7.72c-.78.78-.78 2.05 0 2.83L4 21.41c.39.39.9.59 1.41.59.51 0 1.02-.2 1.41-.59l7.78-7.78 2.81-2.81c.8-.78.8-2.07 0-2.86zM5.41 20L4 18.59l7.72-7.72 1.47 1.35L5.41 20z\"/>\n",
              "  </svg>\n",
              "      </button>\n",
              "      \n",
              "  <style>\n",
              "    .colab-df-container {\n",
              "      display:flex;\n",
              "      flex-wrap:wrap;\n",
              "      gap: 12px;\n",
              "    }\n",
              "\n",
              "    .colab-df-convert {\n",
              "      background-color: #E8F0FE;\n",
              "      border: none;\n",
              "      border-radius: 50%;\n",
              "      cursor: pointer;\n",
              "      display: none;\n",
              "      fill: #1967D2;\n",
              "      height: 32px;\n",
              "      padding: 0 0 0 0;\n",
              "      width: 32px;\n",
              "    }\n",
              "\n",
              "    .colab-df-convert:hover {\n",
              "      background-color: #E2EBFA;\n",
              "      box-shadow: 0px 1px 2px rgba(60, 64, 67, 0.3), 0px 1px 3px 1px rgba(60, 64, 67, 0.15);\n",
              "      fill: #174EA6;\n",
              "    }\n",
              "\n",
              "    [theme=dark] .colab-df-convert {\n",
              "      background-color: #3B4455;\n",
              "      fill: #D2E3FC;\n",
              "    }\n",
              "\n",
              "    [theme=dark] .colab-df-convert:hover {\n",
              "      background-color: #434B5C;\n",
              "      box-shadow: 0px 1px 3px 1px rgba(0, 0, 0, 0.15);\n",
              "      filter: drop-shadow(0px 1px 2px rgba(0, 0, 0, 0.3));\n",
              "      fill: #FFFFFF;\n",
              "    }\n",
              "  </style>\n",
              "\n",
              "      <script>\n",
              "        const buttonEl =\n",
              "          document.querySelector('#df-5b4bdf13-007d-453d-af84-667633a12277 button.colab-df-convert');\n",
              "        buttonEl.style.display =\n",
              "          google.colab.kernel.accessAllowed ? 'block' : 'none';\n",
              "\n",
              "        async function convertToInteractive(key) {\n",
              "          const element = document.querySelector('#df-5b4bdf13-007d-453d-af84-667633a12277');\n",
              "          const dataTable =\n",
              "            await google.colab.kernel.invokeFunction('convertToInteractive',\n",
              "                                                     [key], {});\n",
              "          if (!dataTable) return;\n",
              "\n",
              "          const docLinkHtml = 'Like what you see? Visit the ' +\n",
              "            '<a target=\"_blank\" href=https://colab.research.google.com/notebooks/data_table.ipynb>data table notebook</a>'\n",
              "            + ' to learn more about interactive tables.';\n",
              "          element.innerHTML = '';\n",
              "          dataTable['output_type'] = 'display_data';\n",
              "          await google.colab.output.renderOutput(dataTable, element);\n",
              "          const docLink = document.createElement('div');\n",
              "          docLink.innerHTML = docLinkHtml;\n",
              "          element.appendChild(docLink);\n",
              "        }\n",
              "      </script>\n",
              "    </div>\n",
              "  </div>\n",
              "  "
            ]
          },
          "metadata": {},
          "execution_count": 1
        }
      ],
      "source": [
        "import numpy as np\n",
        "import pandas as pd\n",
        "import matplotlib.pyplot as plt\n",
        "\n",
        "data=pd.read_csv(\"/content/coffee (1).csv\")\n",
        "print(data.shape)\n",
        "data.head()"
      ]
    },
    {
      "cell_type": "markdown",
      "source": [
        "### EXAMPLE OF POSITIVE RELATIONSHIP"
      ],
      "metadata": {
        "id": "PBm6drLRdJbA"
      }
    },
    {
      "cell_type": "code",
      "source": [
        "X=data['Aroma'].values\n",
        "Y=data['Flavor'].values\n",
        "mean_X= np.mean(X)\n",
        "mean_Y= np.mean(Y)\n",
        "n=len(X)\n",
        "num=0\n",
        "den=0\n",
        "for i in range (n):\n",
        "  num+=(X[i]-mean_X)*(Y[i]-mean_Y) #summation of (x-x')*(y-y') i.e numerator\n",
        "  den+=(X[i]-mean_X)**2            #summation of (x-x')^2    i.e denominator\n",
        "m=num/den\n",
        "c=mean_Y-(m*mean_X)\n",
        "print(m)\n",
        "print(c)"
      ],
      "metadata": {
        "colab": {
          "base_uri": "https://localhost:8080/"
        },
        "id": "VpKNu-OIMig8",
        "outputId": "0bbdea5a-f5aa-47fa-9380-e101c435abfb"
      },
      "execution_count": null,
      "outputs": [
        {
          "output_type": "stream",
          "name": "stdout",
          "text": [
            "0.571369466280513\n",
            "3.4939229477475715\n"
          ]
        }
      ]
    },
    {
      "cell_type": "code",
      "source": [
        "max_x=np.max(X)+100\n",
        "min_x=np.min(X)-100\n",
        "\n",
        "x=np.linspace(min_x,max_x,1000)\n",
        "y=m*x+c\n",
        "\n",
        "plt.plot(x,y,color='g', label='Regression line')\n",
        "plt.scatter(X,Y,color='b', label='Scatter plot')\n",
        "\n",
        "plt.xlabel('Aroma')\n",
        "plt.ylabel('Flavor')\n",
        "plt.legend()\n",
        "plt.show()\n"
      ],
      "metadata": {
        "colab": {
          "base_uri": "https://localhost:8080/",
          "height": 449
        },
        "id": "U6kXsCoxPCds",
        "outputId": "45700aa3-7ab9-4048-fd36-5325c3114d7b"
      },
      "execution_count": null,
      "outputs": [
        {
          "output_type": "display_data",
          "data": {
            "text/plain": [
              "<Figure size 640x480 with 1 Axes>"
            ],
            "image/png": "[encoded data removed]"
          },
          "metadata": {}
        }
      ]
    },
    {
      "cell_type": "code",
      "source": [
        "sum1=0\n",
        "sum2=0\n",
        "\n",
        "for i in range(n):\n",
        "  yp=m*X[i]+c\n",
        "  sum1+=(yp-Y[i])**2\n",
        "  sum2+=(Y[i]-mean_Y)**2\n",
        "\n",
        "r2=1-(sum1/sum2)\n",
        "print(r2)\n"
      ],
      "metadata": {
        "colab": {
          "base_uri": "https://localhost:8080/"
        },
        "id": "XpVEE6lkREya",
        "outputId": "25ecdb5c-2b97-4aa5-ceb9-6eacf6bde3cf"
      },
      "execution_count": null,
      "outputs": [
        {
          "output_type": "stream",
          "name": "stdout",
          "text": [
            "0.534480726765166\n"
          ]
        }
      ]
    },
    {
      "cell_type": "code",
      "source": [
        "from sklearn.linear_model import LinearRegression\n",
        "from sklearn.metrics import mean_squared_error\n",
        "\n",
        "X=X.reshape((n,1))\n",
        "\n",
        "reg=LinearRegression()\n",
        "\n",
        "reg=reg.fit(X,Y)\n",
        "\n",
        "r2_score=reg.score(X,Y)\n",
        "print(r2_score)"
      ],
      "metadata": {
        "colab": {
          "base_uri": "https://localhost:8080/"
        },
        "id": "123bB5SzU_BS",
        "outputId": "527b70f0-a0dc-40e0-ad0b-603eb88f04f0"
      },
      "execution_count": null,
      "outputs": [
        {
          "output_type": "stream",
          "name": "stdout",
          "text": [
            "0.5344807267651661\n"
          ]
        }
      ]
    },
    {
      "cell_type": "markdown",
      "source": [
        "### ANOTHER EXAMPLE OF NEGATIVE RELATIONSHIP"
      ],
      "metadata": {
        "id": "cqpOVlsOc9mC"
      }
    },
    {
      "cell_type": "code",
      "source": [
        "import matplotlib.pyplot as plt\n",
        "from scipy import stats\n",
        "\n",
        "x=[5,7,8,7,2,17,2,9,4,11,12,9,6]\n",
        "y=[99,86,87,88,111,86,103,87,94,78,77,85,86]\n",
        "\n",
        "slope, intercept, r, p,std_err = stats.linregress(x,y)\n",
        "\n",
        "def myfunc(x):\n",
        "  return slope * x + intercept\n",
        "\n",
        "mymodel = list(map(myfunc,x))\n",
        "\n",
        "plt.scatter(x,y)\n",
        "plt.plot(x,mymodel)\n",
        "plt.show()\n"
      ],
      "metadata": {
        "colab": {
          "base_uri": "https://localhost:8080/",
          "height": 430
        },
        "id": "Pb5Q9yLKXNpR",
        "outputId": "d337bc07-77d3-46e4-f9f9-4a2b7d1850b0"
      },
      "execution_count": null,
      "outputs": [
        {
          "output_type": "display_data",
          "data": {
            "text/plain": [
              "<Figure size 640x480 with 1 Axes>"
            ],
            "image/png": "[encoded data removed]"
          },
          "metadata": {}
        }
      ]
    },
    {
      "cell_type": "code",
      "source": [
        "from scipy import stats\n",
        "x=[5,7,8,7,2,17,2,9,4,11,12,9,6]\n",
        "y=[99,86,87,88,111,86,103,87,94,78,77,85,86]\n",
        "\n",
        "slope, intercept, r,p,std_err = stats.linregress(x,y)\n",
        "\n",
        "def myfunc(x):\n",
        "  return slope * x + intercept\n",
        "\n",
        "speed = myfunc(10)\n",
        "print(speed)"
      ],
      "metadata": {
        "colab": {
          "base_uri": "https://localhost:8080/"
        },
        "id": "OIx4UyTod-zI",
        "outputId": "761d7873-57c3-4a3f-db8a-c4885354a304"
      },
      "execution_count": null,
      "outputs": [
        {
          "output_type": "stream",
          "name": "stdout",
          "text": [
            "85.59308314937454\n"
          ]
        }
      ]
    },
    {
      "cell_type": "code",
      "source": [
        "\n"
      ],
      "metadata": {
        "id": "peNMBwrCfJZA"
      },
      "execution_count": null,
      "outputs": []
    },
    {
      "cell_type": "code",
      "source": [],
      "metadata": {
        "id": "gDPQEZZ-RC-W"
      },
      "execution_count": null,
      "outputs": []
    }
  ]
}