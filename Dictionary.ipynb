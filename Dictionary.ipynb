{
  "cells": [
    {
      "cell_type": "markdown",
      "metadata": {
        "id": "view-in-github",
        "colab_type": "text"
      },
      "source": [
        "<a href=\"https://colab.research.google.com/github/shravanipidurkar/shravani-google-colab/blob/main/Dictionary.ipynb\" target=\"_parent\"><img src=\"https://colab.research.google.com/assets/colab-badge.svg\" alt=\"Open In Colab\"/></a>"
      ]
    },
    {
      "cell_type": "markdown",
      "metadata": {
        "id": "5yRbO12Ke4Nn"
      },
      "source": [
        "# Python Dictionary\n"
      ]
    },
    {
      "cell_type": "markdown",
      "metadata": {
        "id": "FdxrBYOqe4Nu"
      },
      "source": [
        "ictionaries are Python’s implementation of a data structure, generally known as associative arrays, hashes, or hashmaps.\n",
        "\n",
        "You can think of a dictionary as a mapping between a set of indexes (known as keys) and a set of values. Each key maps to a value. The association of a key and a value is called a key:value pair or sometimes an item.\n",
        "\n",
        "As an example, we’ll build a dictionary that stores employee record.\n",
        "\n",
        "dictionary key value pairs illustration2"
      ]
    },
    {
      "cell_type": "markdown",
      "metadata": {
        "id": "dn_FiPOye4Nw"
      },
      "source": [
        "# Create a Dictionary"
      ]
    },
    {
      "cell_type": "code",
      "source": [
        "d1={}"
      ],
      "metadata": {
        "id": "gxxXk-mUGGwY"
      },
      "execution_count": null,
      "outputs": []
    },
    {
      "cell_type": "code",
      "execution_count": null,
      "metadata": {
        "id": "DzTxj71Pe4Nx"
      },
      "outputs": [],
      "source": [
        "# Create a dictionary to store employee record\n",
        "D = {'name': 'Bob',\n",
        "     'age': 25,\n",
        "     'job': 'Dev',\n",
        "     'city': 'New York',\n",
        "     'email': 'bob@web.com'}"
      ]
    },
    {
      "cell_type": "markdown",
      "metadata": {
        "id": "aFnzkyHce4Nz"
      },
      "source": [
        "# The dict() Constructor"
      ]
    },
    {
      "cell_type": "code",
      "execution_count": null,
      "metadata": {
        "id": "WPUbUQ7Pe4N0",
        "outputId": "fc291aa4-8aec-4c09-f945-d408cf7acd6f"
      },
      "outputs": [
        {
          "name": "stdout",
          "output_type": "stream",
          "text": [
            "{'name': 'Bob', 'age': 25, 'job': 'Dev'}\n"
          ]
        }
      ],
      "source": [
        "# Create a dictionary with a list of two-item tuples\n",
        "L = [('name', 'Bob'),\n",
        "     ('age', 25),\n",
        "     ('job', 'Dev')]\n",
        "\n",
        "D = dict(L)\n",
        "print(D)\n",
        "# Prints {'name': 'Bob', 'age': 25, 'job': 'Dev'}"
      ]
    },
    {
      "cell_type": "code",
      "execution_count": null,
      "metadata": {
        "id": "zSjnpi6Ne4N1",
        "outputId": "05a68bd5-5fed-420a-edb8-b848ce2e1216"
      },
      "outputs": [
        {
          "name": "stdout",
          "output_type": "stream",
          "text": [
            "{'name': 'Bob', 'age': 25, 'job': 'Dev'}\n"
          ]
        }
      ],
      "source": [
        "# Create a dictionary with a tuple of two-item lists\n",
        "T = (['name', 'Bob'],\n",
        "     ['age', 25],\n",
        "     ['job', 'Dev'])-\n",
        "\n",
        "D = dict(T)\n",
        "print(D)\n",
        "# Prints {'name': 'Bob', 'age': 25, 'job': 'Dev'}"
      ]
    },
    {
      "cell_type": "code",
      "execution_count": null,
      "metadata": {
        "id": "7KY3miPve4N3",
        "outputId": "a10ce1fa-4330-4eb2-cc7d-94254c469262"
      },
      "outputs": [
        {
          "name": "stdout",
          "output_type": "stream",
          "text": [
            "{'name': 'Bob', 'age': 25, 'job': 'Dev'}\n"
          ]
        }
      ],
      "source": [
        "D = dict(name = 'Bob',\n",
        "         age = 25,\n",
        "         job = 'Dev')\n",
        "\n",
        "print(D)\n",
        "# Prints {'name': 'Bob', 'age': 25, 'job': 'Dev'}"
      ]
    },
    {
      "cell_type": "markdown",
      "metadata": {
        "id": "xVEnNjhee4N4"
      },
      "source": [
        "# Other Ways to Create Dictionaries"
      ]
    },
    {
      "cell_type": "code",
      "execution_count": null,
      "metadata": {
        "id": "43EtBg2Ae4N4",
        "outputId": "89aa18d1-f299-403f-a40b-c2a9d2ca1f40"
      },
      "outputs": [
        {
          "name": "stdout",
          "output_type": "stream",
          "text": [
            "{'name': 'Bob', 'age': 25, 'job': 'Dev'}\n"
          ]
        }
      ],
      "source": [
        " #Create a dictionary with list of zipped keys/values\n",
        "keys = ['name', 'age', 'job']\n",
        "values = ['Bob', 25, 'Dev']\n",
        "\n",
        "D = dict(zip(keys, values))\n",
        "\n",
        "print(D)\n",
        "# Prints {'name': 'Bob', 'age': 25, 'job': 'Dev'}"
      ]
    },
    {
      "cell_type": "code",
      "execution_count": null,
      "metadata": {
        "id": "fodLikp4e4N5",
        "outputId": "98a98163-b11b-4658-ee21-dc5b096ef53e"
      },
      "outputs": [
        {
          "name": "stdout",
          "output_type": "stream",
          "text": [
            "{'a': 0, 'b': 0, 'c': 0}\n"
          ]
        }
      ],
      "source": [
        "# Initialize dictionary with default value '0' for each key\n",
        "keys = ['a', 'b', 'c']\n",
        "defaultValue = 0\n",
        "\n",
        "D = dict.fromkeys(keys,defaultValue)\n",
        "\n",
        "print(D)\n",
        "# Prints {'a': 0, 'b': 0, 'c': 0}"
      ]
    },
    {
      "cell_type": "markdown",
      "metadata": {
        "id": "CRyCHi2Qe4N6"
      },
      "source": [
        "# Important Properties of a Dictionary\n",
        "Dictionaries are pretty straightforward, but here are a few points you should be aware of when using them.\n",
        "\n",
        "Keys must be unique:\n",
        "A key can appear in a dictionary only once.\n",
        "\n",
        "Even if you specify a key more than once during the creation of a dictionary, the last value for that key becomes the associated value."
      ]
    },
    {
      "cell_type": "code",
      "execution_count": null,
      "metadata": {
        "id": "HfzXkoEve4N7",
        "outputId": "76652004-193f-4901-a0b6-2de07c412ca7"
      },
      "outputs": [
        {
          "name": "stdout",
          "output_type": "stream",
          "text": [
            "{'name': 'Jane', 'age': 25}\n"
          ]
        }
      ],
      "source": [
        "D = {'name': 'Bob',\n",
        "     'age': 25,\n",
        "     'name': 'Jane'}\n",
        "print(D)\n",
        "# Prints {'name': 'Jane', 'age': 25}"
      ]
    },
    {
      "cell_type": "markdown",
      "metadata": {
        "id": "HFMSgGzpe4N7"
      },
      "source": [
        "# Key must be immutable type:"
      ]
    },
    {
      "cell_type": "code",
      "execution_count": null,
      "metadata": {
        "id": "LA1uddyEe4N8"
      },
      "outputs": [],
      "source": [
        "D = {(2,2): 25,\n",
        "     True: 'a',\n",
        "     'name': 'Bob'}"
      ]
    },
    {
      "cell_type": "code",
      "execution_count": null,
      "metadata": {
        "id": "LiPO29MMe4N8",
        "outputId": "f0696549-d79c-4933-b2b3-0ac92b6f4feb"
      },
      "outputs": [
        {
          "ename": "TypeError",
          "evalue": "unhashable type: 'list'",
          "output_type": "error",
          "traceback": [
            "\u001b[1;31m---------------------------------------------------------------------------\u001b[0m",
            "\u001b[1;31mTypeError\u001b[0m                                 Traceback (most recent call last)",
            "\u001b[1;32m<ipython-input-10-73362102dd2c>\u001b[0m in \u001b[0;36m<module>\u001b[1;34m\u001b[0m\n\u001b[0;32m      1\u001b[0m D = {[2,2]: 25,\n\u001b[1;32m----> 2\u001b[1;33m      'name': 'Bob'}\n\u001b[0m",
            "\u001b[1;31mTypeError\u001b[0m: unhashable type: 'list'"
          ]
        }
      ],
      "source": [
        "D = {[2,2]: 25,\n",
        "     'name': 'Bob'}"
      ]
    },
    {
      "cell_type": "markdown",
      "metadata": {
        "id": "sRLwbfL9e4N9"
      },
      "source": [
        "# Value can be of any type:"
      ]
    },
    {
      "cell_type": "code",
      "execution_count": null,
      "metadata": {
        "id": "WjbAfOEte4N9"
      },
      "outputs": [],
      "source": [
        "# values of different datatypes\n",
        "D = {'a':[1,2,3],\n",
        "     'b':{1,2,3}}\n",
        "\n",
        "# duplicate values\n",
        "D = {'a':[1,2],\n",
        "     'b':[1,2],\n",
        "     'c':[1,2]}"
      ]
    },
    {
      "cell_type": "code",
      "execution_count": null,
      "metadata": {
        "id": "tWmegq99e4N-",
        "outputId": "a11e6b31-2537-4bee-bcce-996e7a847714"
      },
      "outputs": [
        {
          "ename": "SyntaxError",
          "evalue": "invalid syntax (<ipython-input-12-f936a537c74b>, line 1)",
          "output_type": "error",
          "traceback": [
            "\u001b[1;36m  File \u001b[1;32m\"<ipython-input-12-f936a537c74b>\"\u001b[1;36m, line \u001b[1;32m1\u001b[0m\n\u001b[1;33m    Access Dictionary Items\u001b[0m\n\u001b[1;37m                    ^\u001b[0m\n\u001b[1;31mSyntaxError\u001b[0m\u001b[1;31m:\u001b[0m invalid syntax\n"
          ]
        }
      ],
      "source": [
        "Access Dictionary Items"
      ]
    },
    {
      "cell_type": "markdown",
      "metadata": {
        "id": "zG8OCbYze4N-"
      },
      "source": [
        "# Access Dictionary Items"
      ]
    },
    {
      "cell_type": "code",
      "execution_count": null,
      "metadata": {
        "id": "aPHWzT-ie4N_",
        "outputId": "50c7a135-063d-4146-825c-a228e15a3fa8"
      },
      "outputs": [
        {
          "name": "stdout",
          "output_type": "stream",
          "text": [
            "Bob\n"
          ]
        }
      ],
      "source": [
        "D = {'name': 'Bob',\n",
        "     'age': 25,\n",
        "     'job': 'Dev'}\n",
        "\n",
        "print(D['name'])\n"
      ]
    },
    {
      "cell_type": "markdown",
      "metadata": {
        "id": "jPY3cnXWe4N_"
      },
      "source": [
        "# Add or Update Dictionary Items"
      ]
    },
    {
      "cell_type": "code",
      "execution_count": null,
      "metadata": {
        "id": "FJAlUdrLe4OA",
        "outputId": "a7510714-f7c2-4ffd-b0ad-8830b2a4958a"
      },
      "outputs": [
        {
          "name": "stdout",
          "output_type": "stream",
          "text": [
            "{'name': 'Sam', 'age': 25, 'job': 'Dev'}\n"
          ]
        }
      ],
      "source": [
        "D = {'name': 'Bob',\n",
        "     'age': 25,\n",
        "     'job': 'Dev'}\n",
        "\n",
        "D['name'] = 'Sam'\n",
        "print(D)\n",
        "# Prints {'name': 'Sam', 'age': 25, 'job': 'Dev'}"
      ]
    },
    {
      "cell_type": "code",
      "execution_count": null,
      "metadata": {
        "id": "L4Y7UP2Qe4OA",
        "outputId": "9f3c6933-e9a9-4ac9-d1ac-729e424887a1"
      },
      "outputs": [
        {
          "name": "stdout",
          "output_type": "stream",
          "text": [
            "{'name': 'Bob', 'age': 25, 'job': 'Dev', 'city': 'New York'}\n"
          ]
        }
      ],
      "source": [
        "D = {'name': 'Bob',\n",
        "     'age': 25,\n",
        "     'job': 'Dev'}\n",
        "\n",
        "D['city'] = 'New York'\n",
        "print(D)\n",
        "# Prints {'name': 'Bob', 'age': 25, 'job': 'Dev', 'city': 'New York'}"
      ]
    },
    {
      "cell_type": "markdown",
      "metadata": {
        "id": "XzuooRhAe4OB"
      },
      "source": [
        "# Merge Two Dictionaries"
      ]
    },
    {
      "cell_type": "code",
      "execution_count": null,
      "metadata": {
        "id": "R_RueSYge4OB",
        "outputId": "d8b41ace-0719-444b-8100-5db7674fc05e"
      },
      "outputs": [
        {
          "name": "stdout",
          "output_type": "stream",
          "text": [
            "{'name': 'Bob', 'age': 30, 'job': 'Dev', 'city': 'New York', 'email': 'bob@web.com'}\n"
          ]
        }
      ],
      "source": [
        "D1 = {'name': 'Bob',\n",
        "      'age': 25,\n",
        "      'job': 'Dev'}\n",
        "\n",
        "D2 = {'age': 30,\n",
        "      'city': 'New York',\n",
        "      'email': 'bob@web.com'}\n",
        "\n",
        "D1.update(D2)\n",
        "print(D1)\n",
        "# Prints {'name': 'Bob', 'age': 30, 'job': 'Dev',\n",
        "#         'city': 'New York', 'email': 'bob@web.com'}"
      ]
    },
    {
      "cell_type": "markdown",
      "metadata": {
        "id": "hVtJLcFee4OC"
      },
      "source": [
        "# Remove Dictionary Items"
      ]
    },
    {
      "cell_type": "code",
      "execution_count": null,
      "metadata": {
        "id": "ODYxh7g3e4OC",
        "outputId": "4bc07243-8333-439f-b9fd-1baa97ef5e30"
      },
      "outputs": [
        {
          "name": "stdout",
          "output_type": "stream",
          "text": [
            "{'name': 'Bob', 'job': 'Dev'}\n",
            "25\n"
          ]
        }
      ],
      "source": [
        "D = {'name': 'Bob',\n",
        "     'age': 25,\n",
        "     'job': 'Dev'}\n",
        "\n",
        "x = D.pop('age')\n",
        "print(D)\n",
        "# Prints {'name': 'Bob', 'job': 'Dev'}\n",
        "\n",
        "# get removed value\n",
        "print(x)\n",
        "# Prints 25"
      ]
    },
    {
      "cell_type": "code",
      "execution_count": null,
      "metadata": {
        "id": "hLv2pB6Qe4OD",
        "outputId": "87c478ee-057e-4c30-e185-5281d78dfa7f"
      },
      "outputs": [
        {
          "name": "stdout",
          "output_type": "stream",
          "text": [
            "{'name': 'Bob', 'age': 25}\n",
            "('job', 'Dev')\n"
          ]
        }
      ],
      "source": [
        "D = {'name': 'Bob',\n",
        "     'age': 25,\n",
        "     'job': 'Dev'}\n",
        "\n",
        "x = D.popitem()\n",
        "print(D)\n",
        "# Prints {'name': 'Bob', 'age': 25}\n",
        "\n",
        "# get removed pair\n",
        "print(x)\n",
        "# Prints ('job', 'Dev')"
      ]
    },
    {
      "cell_type": "markdown",
      "metadata": {
        "id": "smTySxn5e4OD"
      },
      "source": [
        "# Remove all Items"
      ]
    },
    {
      "cell_type": "code",
      "execution_count": null,
      "metadata": {
        "id": "4AjYI6SSe4OD",
        "outputId": "016fe66e-da30-4451-c81f-33640fb4e380"
      },
      "outputs": [
        {
          "name": "stdout",
          "output_type": "stream",
          "text": [
            "{}\n"
          ]
        }
      ],
      "source": [
        "D = {'name': 'Bob',\n",
        "     'age': 25,\n",
        "     'job': 'Dev'}\n",
        "\n",
        "D.clear()\n",
        "print(D)\n",
        "# Prints {}"
      ]
    },
    {
      "cell_type": "markdown",
      "metadata": {
        "id": "wr6gQLjde4OE"
      },
      "source": [
        "# Get All Keys, Values and Key:Value Pairs"
      ]
    },
    {
      "cell_type": "code",
      "execution_count": null,
      "metadata": {
        "id": "pFnyVnXDe4OE",
        "outputId": "73c809df-4598-4c60-97ac-9a70a0f58c23"
      },
      "outputs": [
        {
          "name": "stdout",
          "output_type": "stream",
          "text": [
            "['name', 'age', 'job']\n",
            "['Bob', 25, 'Dev']\n",
            "[('name', 'Bob'), ('age', 25), ('job', 'Dev')]\n"
          ]
        }
      ],
      "source": [
        " D= {'name': 'Bob',\n",
        "     'age': 25,\n",
        "     'job': 'Dev'}\n",
        "\n",
        "# get all keys\n",
        "print(list(D.keys()))\n",
        "# Prints ['name', 'age', 'job']\n",
        "\n",
        "# get all values\n",
        "print(list(D.values()))\n",
        "# Prints ['Bob', 25, 'Dev']\n",
        "\n",
        "# get all pairs\n",
        "print(list(D.items()))\n",
        "# Prints [('name', 'Bob'), ('age', 25), ('job', 'Dev')]\n"
      ]
    },
    {
      "cell_type": "markdown",
      "metadata": {
        "id": "daLwcuD5e4OF"
      },
      "source": [
        "# Iterate Through a Dictionary"
      ]
    },
    {
      "cell_type": "code",
      "execution_count": null,
      "metadata": {
        "id": "6cfdcMkTe4OF"
      },
      "outputs": [],
      "source": []
    }
  ],
  "metadata": {
    "kernelspec": {
      "display_name": "Python 3",
      "language": "python",
      "name": "python3"
    },
    "language_info": {
      "codemirror_mode": {
        "name": "ipython",
        "version": 3
      },
      "file_extension": ".py",
      "mimetype": "text/x-python",
      "name": "python",
      "nbconvert_exporter": "python",
      "pygments_lexer": "ipython3",
      "version": "3.7.6"
    },
    "colab": {
      "provenance": [],
      "include_colab_link": true
    }
  },
  "nbformat": 4,
  "nbformat_minor": 0
}