{
  "nbformat": 4,
  "nbformat_minor": 0,
  "metadata": {
    "colab": {
      "provenance": [],
      "authorship_tag": "ABX9TyMxLFPYe8UdI2hLkvwpUdBt",
      "include_colab_link": true
    },
    "kernelspec": {
      "name": "python3",
      "display_name": "Python 3"
    },
    "language_info": {
      "name": "python"
    }
  },
  "cells": [
    {
      "cell_type": "markdown",
      "metadata": {
        "id": "view-in-github",
        "colab_type": "text"
      },
      "source": [
        "<a href=\"https://colab.research.google.com/github/shravanipidurkar/shravani-google-colab/blob/main/347_MSEpractical.ipynb\" target=\"_parent\"><img src=\"https://colab.research.google.com/assets/colab-badge.svg\" alt=\"Open In Colab\"/></a>"
      ]
    },
    {
      "cell_type": "markdown",
      "source": [
        "**MSE PRACTICAL EXAM**"
      ],
      "metadata": {
        "id": "8Ith14Rn8Kj4"
      }
    },
    {
      "cell_type": "code",
      "source": [
        "sem1=[]\n",
        "sem2=[]\n",
        "sem3=[]\n",
        "sem4=[]\n",
        "sem5=[]\n",
        "college_code=[]\n",
        "gender={}\n",
        "\n",
        "fp1=open(\"/content/result1.csv\",\"r\")\n",
        "data=fp1.readline()\n",
        "\n",
        "while(True):\n",
        "\n",
        "  data=fp1.readline()\n",
        "  if not data:\n",
        "    break;\n",
        "  temp=data.split(\",\")\n",
        "  sem1.append(temp[0])\n",
        "  sem2.append(temp[1])\n",
        "  sem3.append(temp[2])\n",
        "  sem4.append(temp[3])\n",
        "  sem5.append(temp[4])\n",
        "  college_code.append(temp[5])\n",
        "  gender.update({temp[5]:temp[6]})\n",
        "fp1.close()\n",
        "\n",
        "frequency={}\n",
        "#1.highest score in 5th sem\n",
        "for item in sem5:\n",
        "  if item in frequency:\n",
        "    frequency[item] +=1\n",
        "  else:\n",
        "    frequency[item] =1\n",
        "print(\"Frequency\",frequency)\n",
        "marklist = sorted(frequency.items(), key=lambda x:x[1])\n",
        "sortdict = dict(marklist)\n",
        "print(\"Sorted Data\",sortdict)\n",
        "print(\"The highest score in 5th Sem \", list(sortdict.keys())[0])\n",
        "\n",
        "frequency={}\n",
        "#2.Lowest score in 1th sem\n",
        "for item in sem1:\n",
        "  if item in frequency:\n",
        "    frequency[item] +=1\n",
        "  else:\n",
        "    frequency[item] =1\n",
        "print(frequency)\n",
        "marklist = sorted(frequency.items(), key=lambda x:x[1], reverse=True)\n",
        "sortdict = dict(marklist)\n",
        "print(\"Sorted Data\",sortdict)\n",
        "print(\"The lowest score in 1th Sem \", list(sortdict.keys())[0])\n",
        "\n",
        "frequency={}\n",
        "#3.average score in 2th sem\n",
        "for item in sem2:\n",
        "  if item in frequency:\n",
        "    frequency[item] +=1\n",
        "  else:\n",
        "    frequency[item] =1\n",
        "marklist = sorted(frequency.items(), key=lambda x:x[1], reverse=True)\n",
        "sortdict = dict(marklist)\n",
        "sortdict = {float(i):j for i,j in sortdict.items()}\n",
        "print(\"Sorted Data\",sortdict)\n",
        "print(\"The average score in 2th Sem \", sum(list(sortdict.keys()))/len(list(sortdict.keys())))\n",
        "\n",
        "#4.female students & 5.male students\n",
        "from collections import Counter\n",
        "counter = dict(Counter(gender))\n",
        "names=list(counter.keys())\n",
        "print(names)\n",
        "male=0\n",
        "female=0\n",
        "\n",
        "for name in names:\n",
        "  if gender[name]==\"Male\\n\":\n",
        "    male=male+1\n",
        "  elif gender[name]==\"Female\\n\":\n",
        "    female+=1\n",
        "#4.the number of female students\n",
        "print(\"Total number of Female=\", female)\n",
        "#5.the number of male students\n",
        "print(\"Total number of Male=\", male)"
      ],
      "metadata": {
        "id": "Pth8uA1z8TKY",
        "colab": {
          "base_uri": "https://localhost:8080/"
        },
        "outputId": "bceb862b-95bb-404b-ae0e-a9b0627319bc"
      },
      "execution_count": null,
      "outputs": [
        {
          "output_type": "stream",
          "name": "stdout",
          "text": [
            "Frequency {'8.18': 1, '4.96': 1, '7.75': 1, '6.89': 2, '7.46': 1, '7.39': 1, '7.64': 2, '6.75': 2, '8': 1, '6.18': 1, '8.11': 1, '6.39': 1, '7': 1, '6.86': 1, '6.36': 1, '7.29': 1, '6.61': 1, '8.46': 1, '7.32': 1, '6.25': 1, '8.93': 1, '8.21': 1, '7.54': 1, '8.36': 1, '9': 1, '7.86': 2, '7.61': 1, '8.5': 1, '8.82': 1, '8.75': 1}\n",
            "Sorted Data {'8.18': 1, '4.96': 1, '7.75': 1, '7.46': 1, '7.39': 1, '8': 1, '6.18': 1, '8.11': 1, '6.39': 1, '7': 1, '6.86': 1, '6.36': 1, '7.29': 1, '6.61': 1, '8.46': 1, '7.32': 1, '6.25': 1, '8.93': 1, '8.21': 1, '7.54': 1, '8.36': 1, '9': 1, '7.61': 1, '8.5': 1, '8.82': 1, '8.75': 1, '6.89': 2, '7.64': 2, '6.75': 2, '7.86': 2}\n",
            "The highest score in 5th Sem  8.18\n",
            "{'8.11': 1, '6.48': 1, '8.41': 1, '7.33': 3, '7.89': 3, '7.15': 1, '6.74': 1, '7.3': 1, '8': 1, '6.78': 1, '5.67': 1, '6.33': 1, '6.44': 1, '6.3': 1, '6.96': 1, '6.7': 1, '7.41': 1, '7.04': 1, '6.63': 1, '8.33': 1, '7.96': 1, '6.89': 1, '8.19': 1, '8.22': 1, '7.44': 1, '5.74': 1, '6.81': 1, '8.89': 1, '8.04': 1, '8.3': 1}\n",
            "Sorted Data {'7.33': 3, '7.89': 3, '8.11': 1, '6.48': 1, '8.41': 1, '7.15': 1, '6.74': 1, '7.3': 1, '8': 1, '6.78': 1, '5.67': 1, '6.33': 1, '6.44': 1, '6.3': 1, '6.96': 1, '6.7': 1, '7.41': 1, '7.04': 1, '6.63': 1, '8.33': 1, '7.96': 1, '6.89': 1, '8.19': 1, '8.22': 1, '7.44': 1, '5.74': 1, '6.81': 1, '8.89': 1, '8.04': 1, '8.3': 1}\n",
            "The lowest score in 1th Sem  7.33\n",
            "Sorted Data {6.72: 2, 5.62: 2, 6.45: 2, 8.17: 2, 7.59: 2, 7.68: 1, 5.9: 1, 8.24: 1, 6.83: 1, 7.34: 1, 6.38: 1, 7.45: 1, 6.34: 1, 7.9: 1, 4.28: 1, 6.41: 1, 6.21: 1, 6.17: 1, 6.14: 1, 6.93: 1, 6.31: 1, 8.72: 1, 7.93: 1, 5.55: 1, 6.69: 1, 6.55: 1, 6.79: 1, 8.31: 1, 8.38: 1}\n",
            "The average score in 2th Sem  6.895862068965518\n",
            "['112', '115', '114', '111', '113']\n",
            "Total number of Female= 1\n",
            "Total number of Male= 4\n"
          ]
        }
      ]
    },
    {
      "cell_type": "code",
      "source": [
        "frequency={}\n",
        "#2.Lowest score in 1th sem\n",
        "for item in sem1:\n",
        "  if item in frequency:\n",
        "    frequency[item] +=1\n",
        "  else:\n",
        "    frequency[item] =1\n",
        "print(frequency)\n",
        "marklist = sorted(frequency.items(), key=lambda x:x[1], reverse=True)\n",
        "sortdict = dict(marklist)\n",
        "print(\"Sorted Data\",sortdict)\n",
        "print(\"The lowest score in 1th Sem \", list(sortdict.keys())[0])\n"
      ],
      "metadata": {
        "colab": {
          "base_uri": "https://localhost:8080/"
        },
        "id": "j5T3TosvC1P7",
        "outputId": "d403ef85-e0e7-43f2-e205-3ee9cc000ff4"
      },
      "execution_count": null,
      "outputs": [
        {
          "output_type": "stream",
          "name": "stdout",
          "text": [
            "{'8.11': 1, '6.48': 1, '8.41': 1, '7.33': 3, '7.89': 3, '7.15': 1, '6.74': 1, '7.3': 1, '8': 1, '6.78': 1, '5.67': 1, '6.33': 1, '6.44': 1, '6.3': 1, '6.96': 1, '6.7': 1, '7.41': 1, '7.04': 1, '6.63': 1, '8.33': 1, '7.96': 1, '6.89': 1, '8.19': 1, '8.22': 1, '7.44': 1, '5.74': 1, '6.81': 1, '8.89': 1, '8.04': 1, '8.3': 1}\n",
            "Sorted Data {'7.33': 3, '7.89': 3, '8.11': 1, '6.48': 1, '8.41': 1, '7.15': 1, '6.74': 1, '7.3': 1, '8': 1, '6.78': 1, '5.67': 1, '6.33': 1, '6.44': 1, '6.3': 1, '6.96': 1, '6.7': 1, '7.41': 1, '7.04': 1, '6.63': 1, '8.33': 1, '7.96': 1, '6.89': 1, '8.19': 1, '8.22': 1, '7.44': 1, '5.74': 1, '6.81': 1, '8.89': 1, '8.04': 1, '8.3': 1}\n",
            "The lowest score in 1th Sem  7.33\n"
          ]
        }
      ]
    },
    {
      "cell_type": "code",
      "source": [
        "from collections import Counter\n",
        "counter = dict(Counter(gender))\n",
        "names=list(counter.keys())\n",
        "print(names)\n",
        "male=0\n",
        "female=0\n",
        "\n",
        "for name in names:\n",
        "  if gender[name]==\"Male\\n\":\n",
        "    male=male+1\n",
        "  elif gender[name]==\"Female\\n\":\n",
        "    female+=1\n",
        "#4.the number of female students\n",
        "print(\"Total number of Female=\", female)\n",
        "#5.the number of male students\n",
        "print(\"Total number of Male=\", male)\n"
      ],
      "metadata": {
        "colab": {
          "base_uri": "https://localhost:8080/"
        },
        "id": "dR2RcLPjEWAi",
        "outputId": "a399abd6-3c12-4082-d846-e13600e609ac"
      },
      "execution_count": null,
      "outputs": [
        {
          "output_type": "stream",
          "name": "stdout",
          "text": [
            "['112', '115', '114', '111', '113']\n",
            "Total number of Female= 1\n",
            "Total number of Male= 4\n"
          ]
        }
      ]
    },
    {
      "cell_type": "code",
      "source": [
        "frequency={}\n",
        "#3.average score in 2th sem\n",
        "for item in sem2:\n",
        "  if item in frequency:\n",
        "    frequency[item] +=1\n",
        "  else:\n",
        "    frequency[item] =1\n",
        "marklist = sorted(frequency.items(), key=lambda x:x[1], reverse=True)\n",
        "sortdict = dict(marklist)\n",
        "sortdict = {float(i):j for i,j in sortdict.items()}\n",
        "print(\"Sorted Data\",sortdict)\n",
        "print(\"The average score in 2th Sem \", sum(list(sortdict.keys()))/len(list(sortdict.keys())))"
      ],
      "metadata": {
        "colab": {
          "base_uri": "https://localhost:8080/"
        },
        "id": "sQU99ymxO6O3",
        "outputId": "fccc0883-c805-434c-a97e-5bf337692a2c"
      },
      "execution_count": null,
      "outputs": [
        {
          "output_type": "stream",
          "name": "stdout",
          "text": [
            "Sorted Data {6.72: 2, 5.62: 2, 6.45: 2, 8.17: 2, 7.59: 2, 7.68: 1, 5.9: 1, 8.24: 1, 6.83: 1, 7.34: 1, 6.38: 1, 7.45: 1, 6.34: 1, 7.9: 1, 4.28: 1, 6.41: 1, 6.21: 1, 6.17: 1, 6.14: 1, 6.93: 1, 6.31: 1, 8.72: 1, 7.93: 1, 5.55: 1, 6.69: 1, 6.55: 1, 6.79: 1, 8.31: 1, 8.38: 1}\n",
            "The average score in 2th Sem  6.895862068965518\n"
          ]
        }
      ]
    },
    {
      "cell_type": "code",
      "source": [],
      "metadata": {
        "id": "MUOAWKRvPzy_"
      },
      "execution_count": null,
      "outputs": []
    }
  ]
}