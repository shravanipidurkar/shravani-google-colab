{
  "nbformat": 4,
  "nbformat_minor": 0,
  "metadata": {
    "colab": {
      "provenance": [],
      "authorship_tag": "ABX9TyNh5p8fDFqfOe2zGPg+6nLR",
      "include_colab_link": true
    },
    "kernelspec": {
      "name": "python3",
      "display_name": "Python 3"
    },
    "language_info": {
      "name": "python"
    }
  },
  "cells": [
    {
      "cell_type": "markdown",
      "metadata": {
        "id": "view-in-github",
        "colab_type": "text"
      },
      "source": [
        "<a href=\"https://colab.research.google.com/github/shravanipidurkar/shravani-google-colab/blob/main/Numpy_Module.ipynb\" target=\"_parent\"><img src=\"https://colab.research.google.com/assets/colab-badge.svg\" alt=\"Open In Colab\"/></a>"
      ]
    },
    {
      "cell_type": "code",
      "execution_count": null,
      "metadata": {
        "colab": {
          "base_uri": "https://localhost:8080/"
        },
        "id": "bWyBRYqo76I-",
        "outputId": "7c0477ba-79d6-4bb4-e289-94c13280d581"
      },
      "outputs": [
        {
          "output_type": "execute_result",
          "data": {
            "text/plain": [
              "array([[11, 12, 13],\n",
              "       [14, 15, 16],\n",
              "       [17, 18, 19]])"
            ]
          },
          "metadata": {},
          "execution_count": 8
        }
      ],
      "source": [
        "import numpy as np\n",
        "array1=np.array([[11,12,13],[14,15,16],[17,18,19]])\n",
        "array1"
      ]
    },
    {
      "cell_type": "code",
      "source": [
        "import numpy as np\n",
        "array2=np.array([[5,6,7],[1,2,3],[10,11,12]])\n",
        "array2"
      ],
      "metadata": {
        "colab": {
          "base_uri": "https://localhost:8080/"
        },
        "id": "LCJwtrfp-dMB",
        "outputId": "b0952d0b-7b54-400f-a05b-d201d7ddd6b9"
      },
      "execution_count": null,
      "outputs": [
        {
          "output_type": "execute_result",
          "data": {
            "text/plain": [
              "array([[ 5,  6,  7],\n",
              "       [ 1,  2,  3],\n",
              "       [10, 11, 12]])"
            ]
          },
          "metadata": {},
          "execution_count": 4
        }
      ]
    },
    {
      "cell_type": "code",
      "source": [
        "#Addition\n",
        "re_array=array1+array2\n",
        "print(\"\\nBy Operator Method:\\n\",re_array)\n",
        "re_array=np.add(array1,array2)\n",
        "print(\"By numpy\")"
      ],
      "metadata": {
        "colab": {
          "base_uri": "https://localhost:8080/"
        },
        "id": "vU3KadD4-38h",
        "outputId": "0ab0edae-7de6-4906-e025-571323f65c37"
      },
      "execution_count": null,
      "outputs": [
        {
          "output_type": "stream",
          "name": "stdout",
          "text": [
            "\n",
            "By Operator Method:\n",
            " [[16 18 20]\n",
            " [15 17 19]\n",
            " [27 29 31]]\n",
            "By numpy\n"
          ]
        }
      ]
    },
    {
      "cell_type": "code",
      "source": [
        "#Subtraction\n",
        "re_array=array1-array2\n",
        "print(\"\\nBy Operator Method:\\n\",re_array)\n",
        "re_array=np.subtract(array1,array2)\n",
        "print(\"By numpy\")"
      ],
      "metadata": {
        "colab": {
          "base_uri": "https://localhost:8080/"
        },
        "id": "IMIuWs8U_0Zx",
        "outputId": "379fa959-08da-4aa0-d1a0-efd699b528ab"
      },
      "execution_count": null,
      "outputs": [
        {
          "output_type": "stream",
          "name": "stdout",
          "text": [
            "\n",
            "By Operator Method:\n",
            " [[ 6  6  6]\n",
            " [13 13 13]\n",
            " [ 7  7  7]]\n",
            "By numpy\n"
          ]
        }
      ]
    },
    {
      "cell_type": "code",
      "source": [
        "#Multiplication\n",
        "re_array=array1*array2\n",
        "print(\"\\nBy Operator Method:\\n\",re_array)\n",
        "re_array=np.multiply(array1,array2)\n",
        "print(\"By numpy\")"
      ],
      "metadata": {
        "colab": {
          "base_uri": "https://localhost:8080/"
        },
        "id": "S0iuAOAOAYkZ",
        "outputId": "aa17067b-836c-4cda-a9a1-309b83dfbd6b"
      },
      "execution_count": null,
      "outputs": [
        {
          "output_type": "stream",
          "name": "stdout",
          "text": [
            "\n",
            "By Operator Method:\n",
            " [[ 55  72  91]\n",
            " [ 14  30  48]\n",
            " [170 198 228]]\n",
            "By numpy\n"
          ]
        }
      ]
    },
    {
      "cell_type": "code",
      "source": [
        "#Division1/2\n",
        "re_array=array1/array2\n",
        "print(\"\\nBy Operator Method:\\n\",re_array)\n",
        "re_array=np.divide(array1,array2)\n",
        "print(\"By numpy\")"
      ],
      "metadata": {
        "colab": {
          "base_uri": "https://localhost:8080/"
        },
        "id": "G6g0MQSTAnJK",
        "outputId": "8639af44-6a46-462d-baf0-7b2aa699608e"
      },
      "execution_count": null,
      "outputs": [
        {
          "output_type": "stream",
          "name": "stdout",
          "text": [
            "\n",
            "By Operator Method:\n",
            " [[ 2.2         2.          1.85714286]\n",
            " [14.          7.5         5.33333333]\n",
            " [ 1.7         1.63636364  1.58333333]]\n",
            "By numpy\n"
          ]
        }
      ]
    },
    {
      "cell_type": "code",
      "source": [
        "#Mod\n",
        "re_array=array1%array2\n",
        "print(\"\\nBy Operator Method:\\n\",re_array)\n",
        "re_array=np.mod(array1,array2)\n",
        "print(\"By numpy\")"
      ],
      "metadata": {
        "colab": {
          "base_uri": "https://localhost:8080/"
        },
        "id": "SAcVzcyRAsIY",
        "outputId": "afa30fa9-06be-46a9-8857-a4ae8b1079b6"
      },
      "execution_count": null,
      "outputs": [
        {
          "output_type": "stream",
          "name": "stdout",
          "text": [
            "\n",
            "By Operator Method:\n",
            " [[1 0 6]\n",
            " [0 1 1]\n",
            " [7 7 7]]\n",
            "By numpy\n"
          ]
        }
      ]
    },
    {
      "cell_type": "code",
      "source": [
        "#Division2/1\n",
        "re_array=array2/array1\n",
        "print(\"\\nBy Operator Method:\\n\",re_array)\n",
        "re_array=np.divide(array2,array1)\n",
        "print(\"By numpy\")"
      ],
      "metadata": {
        "colab": {
          "base_uri": "https://localhost:8080/"
        },
        "id": "is366ePkA6q5",
        "outputId": "06c0b286-1d2a-4db9-ce44-6cde967d3cf1"
      },
      "execution_count": null,
      "outputs": [
        {
          "output_type": "stream",
          "name": "stdout",
          "text": [
            "\n",
            "By Operator Method:\n",
            " [[0.45454545 0.5        0.53846154]\n",
            " [0.07142857 0.13333333 0.1875    ]\n",
            " [0.58823529 0.61111111 0.63157895]]\n",
            "By numpy\n"
          ]
        }
      ]
    },
    {
      "cell_type": "markdown",
      "source": [
        "numpy documentayion from which we can get information is  :\n",
        "numpy.org & geeksforgeeks.org"
      ],
      "metadata": {
        "id": "0PeYUt7QB6-6"
      }
    },
    {
      "cell_type": "code",
      "source": [
        "#Dot product\n",
        "re_array=np.dot(array1,array2)\n",
        "print(re_array)"
      ],
      "metadata": {
        "colab": {
          "base_uri": "https://localhost:8080/"
        },
        "id": "0ZP5IxV7CCtI",
        "outputId": "6b3467de-41b4-4284-cea3-62f0e6203fb0"
      },
      "execution_count": null,
      "outputs": [
        {
          "output_type": "stream",
          "name": "stdout",
          "text": [
            "[[197 233 269]\n",
            " [245 290 335]\n",
            " [293 347 401]]\n"
          ]
        }
      ]
    },
    {
      "cell_type": "code",
      "source": [
        "re_array=np.transpose(array1)\n",
        "print(re_array)\n",
        "\n",
        "\n",
        "re_array=np.transpose(array2)\n",
        "print(re_array)"
      ],
      "metadata": {
        "colab": {
          "base_uri": "https://localhost:8080/"
        },
        "id": "5uYoek7wCTS5",
        "outputId": "b123b522-7867-443e-9c40-94c245bdf3c9"
      },
      "execution_count": null,
      "outputs": [
        {
          "output_type": "stream",
          "name": "stdout",
          "text": [
            "[[11 14 17]\n",
            " [12 15 18]\n",
            " [13 16 19]]\n",
            "[[ 5  1 10]\n",
            " [ 6  2 11]\n",
            " [ 7  3 12]]\n"
          ]
        }
      ]
    },
    {
      "cell_type": "code",
      "source": [
        "#Horizontal stacking\n",
        "re_array=np.hstack((array1,array2))\n",
        "print(re_array)"
      ],
      "metadata": {
        "colab": {
          "base_uri": "https://localhost:8080/"
        },
        "id": "SVmdPmjBCevp",
        "outputId": "9332c1f6-dbdb-45e5-cee5-038c0633cebd"
      },
      "execution_count": null,
      "outputs": [
        {
          "output_type": "stream",
          "name": "stdout",
          "text": [
            "[[11 12 13  5  6  7]\n",
            " [14 15 16  1  2  3]\n",
            " [17 18 19 10 11 12]]\n"
          ]
        }
      ]
    },
    {
      "cell_type": "code",
      "source": [
        "#Vertical stacking\n",
        "re_array=np.vstack((array1,array2))\n",
        "print(re_array)"
      ],
      "metadata": {
        "colab": {
          "base_uri": "https://localhost:8080/"
        },
        "id": "cVKhaMzVDZpr",
        "outputId": "abd758a8-d7c4-4b3c-8840-adee72ae743f"
      },
      "execution_count": null,
      "outputs": [
        {
          "output_type": "stream",
          "name": "stdout",
          "text": [
            "[[11 12 13]\n",
            " [14 15 16]\n",
            " [17 18 19]\n",
            " [ 5  6  7]\n",
            " [ 1  2  3]\n",
            " [10 11 12]]\n"
          ]
        }
      ]
    },
    {
      "cell_type": "code",
      "source": [
        "import numpy as np\n",
        "a= np.array([1,2,3])\n",
        "b=np.array([4,5,6])\n",
        "c=np.stack((a,b),axis=0)\n",
        "print(c)"
      ],
      "metadata": {
        "colab": {
          "base_uri": "https://localhost:8080/"
        },
        "id": "koIT6nWbDkr6",
        "outputId": "e2b59623-4b59-46b9-82b1-44534cb82939"
      },
      "execution_count": null,
      "outputs": [
        {
          "output_type": "stream",
          "name": "stdout",
          "text": [
            "[[1 2 3]\n",
            " [4 5 6]]\n"
          ]
        }
      ]
    },
    {
      "cell_type": "code",
      "source": [
        "import numpy as np\n",
        "a= np.array([1,2,3])\n",
        "b=np.array([4,5,6])\n",
        "c=np.stack((a,b),axis=1)\n",
        "print(c)"
      ],
      "metadata": {
        "colab": {
          "base_uri": "https://localhost:8080/"
        },
        "id": "-Fw83IAMGfjq",
        "outputId": "d1eb3c0a-6e64-46b1-9c8f-cef48cf2b904"
      },
      "execution_count": null,
      "outputs": [
        {
          "output_type": "stream",
          "name": "stdout",
          "text": [
            "[[1 4]\n",
            " [2 5]\n",
            " [3 6]]\n"
          ]
        }
      ]
    },
    {
      "cell_type": "code",
      "source": [
        " #Shape\n",
        " import numpy as np\n",
        " arr=np.array([[1,2,3,4],[5,6,7,8]])\n",
        " print(arr.shape)"
      ],
      "metadata": {
        "colab": {
          "base_uri": "https://localhost:8080/"
        },
        "id": "O5Tu2Tx9JTCF",
        "outputId": "5fe71cc0-56ab-41a4-895c-a89ae0796664"
      },
      "execution_count": null,
      "outputs": [
        {
          "output_type": "stream",
          "name": "stdout",
          "text": [
            "(2, 4)\n"
          ]
        }
      ]
    },
    {
      "cell_type": "code",
      "source": [],
      "metadata": {
        "id": "P2ewQi9pNtSV"
      },
      "execution_count": null,
      "outputs": []
    }
  ]
}