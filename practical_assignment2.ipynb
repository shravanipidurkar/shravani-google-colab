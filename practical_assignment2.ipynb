{
  "nbformat": 4,
  "nbformat_minor": 0,
  "metadata": {
    "colab": {
      "provenance": []
    },
    "kernelspec": {
      "name": "python3",
      "display_name": "Python 3"
    },
    "language_info": {
      "name": "python"
    }
  },
  "cells": [
    {
      "cell_type": "markdown",
      "source": [
        "Prepare/Take datasets for any real-life application. For Ex. Sales of the company. Read the data from Sales.csv/.xls/.txt. Store Product details in the List data structure. Store Supplier Details in Dictionary Data Structure. Store Customer Details in Tuple Data Structure. Now perform the following operations:\n",
        "\n",
        "\n",
        "1. Find the most popular product for sale.\n",
        "2. Find the best supplier for sales.\n",
        "3. Find the customer who buys most of the products.\n",
        "4. Find the number of customers who are ‘Female’\n",
        "\n",
        "\n",
        "\n"
      ],
      "metadata": {
        "id": "iS7DE0tz7Jk8"
      }
    },
    {
      "cell_type": "code",
      "execution_count": null,
      "metadata": {
        "id": "_Kqi1bav3dZN",
        "colab": {
          "base_uri": "https://localhost:8080/"
        },
        "outputId": "0ab35b19-e3e0-4e14-b372-6e76f003623b"
      },
      "outputs": [
        {
          "output_type": "stream",
          "name": "stdout",
          "text": [
            "<class 'tuple'>\n",
            "\n",
            "Product_details\n",
            " ['Lenovo Laptop', 'Samsung M31', 'Realmi 10pro', 'Oppo F21', 'Lenovo Laptop', 'Samsung M31', '\"LG TV 32\"\"\"', 'Oppo F21', 'Lenovo Laptop', 'Samsung M31', '\"LG TV 32\"\"\"', 'Lenovo Laptop', 'Samsung M31', 'Realmi 10pro', 'Lenovo Laptop', 'Oppo F21', '\"LG TV 32\"\"\"', 'Lenovo Laptop', 'Samsung M31', '\"LG TV 32\"\"\"']\n",
            "\n",
            "Customer_details\n",
            " ('Kaustubh Mahajan', 'Siddhi Kiwale', 'Sanket Kandalkar', 'Yash Mali', 'Yash Bagul', 'Siddhi Kiwale', 'Sanket Kandalkar', 'Kaustubh Mahajan', 'Yash Mali', 'Siddhi Kiwale', 'Sanket Kandalkar', 'Kaustubh Mahajan', 'Yash Mali', 'Siddhi Kiwale', 'Tanuja Mali', 'Kaustubh Mahajan', 'Sanket Kandalkar', 'Siddhi Kiwale', 'Kaustubh Mahajan', 'Yash Mali')\n",
            "\n",
            "Supplier_details\n",
            " {'P00001': 'Raka Ele.', 'P00002': 'Vijay Sales', 'P00003': 'Gada Ele.', 'P00004': 'Surya Ele.', 'P00005': 'Raka Ele.', 'P00006': 'Gada Ele.', 'P00007': 'Vijay Sales', 'P00008': 'Surya Ele.', 'P00009': 'Raka Ele.', 'P00010': 'Gada Ele.', 'P00011': 'Surya Ele.', 'P00012': 'Raka Ele.', 'P00013': 'Surya Ele.', 'P00014': 'Raka Ele.', 'P00015': 'Gada Ele.', 'P00016': 'Vijay Sales', 'P00017': 'Deshmukh sales', 'P00018': 'Raka Ele.', 'P00019': 'Deshmukh sales', 'P00020': 'Gada Ele.'}\n",
            "\n",
            "gender {'Kaustubh Mahajan': 'Male\\n', 'Siddhi Kiwale': 'Female\\n', 'Sanket Kandalkar': 'Male\\n', 'Yash Mali': 'Male', 'Yash Bagul': 'Male\\n', 'Tanuja Mali': 'Female\\n'}{'Lenovo Laptop': 6, 'Samsung M31': 5, 'Realmi 10pro': 2, 'Oppo F21': 3, '\"LG TV 32\"\"\"': 4}\n",
            "{'Lenovo Laptop': 6, 'Samsung M31': 5, '\"LG TV 32\"\"\"': 4, 'Oppo F21': 3, 'Realmi 10pro': 2}\n",
            "The most popular product for sales Lenovo Laptop sold 6 times\n",
            "{'Raka Ele.': 6, 'Vijay Sales': 3, 'Gada Ele.': 5, 'Surya Ele.': 4, 'Deshmukh sales': 2}\n",
            "{'Raka Ele.': 6, 'Gada Ele.': 5, 'Surya Ele.': 4, 'Vijay Sales': 3, 'Deshmukh sales': 2}\n",
            "The most popular Supplier for sales Raka Ele. sold 6 times\n",
            "frequency is as below:\n",
            " {'Kaustubh Mahajan': 5, 'Siddhi Kiwale': 5, 'Sanket Kandalkar': 4, 'Yash Mali': 4, 'Yash Bagul': 1, 'Tanuja Mali': 1}\n",
            "{'Kaustubh Mahajan': 5, 'Siddhi Kiwale': 5, 'Sanket Kandalkar': 4, 'Yash Mali': 4, 'Yash Bagul': 1, 'Tanuja Mali': 1}\n",
            "The customer who buys most of the products Kaustubh Mahajan buy 5 times\n",
            "['Kaustubh Mahajan', 'Siddhi Kiwale', 'Sanket Kandalkar', 'Yash Mali', 'Yash Bagul', 'Tanuja Mali']\n",
            "Total number of Male= 3\n",
            "Total number of Female= 2\n"
          ]
        }
      ],
      "source": [
        "Product_details=[]\n",
        "Supplier_details=dict()\n",
        "Customer_details=[]\n",
        "gender={}\n",
        "\n",
        "fp1=open(\"/content/Sales (5).csv\",\"r\")\n",
        "data=fp1.readline()\n",
        "\n",
        "while(True):\n",
        "\n",
        "  data=fp1.readline()\n",
        "  if not data:\n",
        "    break;\n",
        "  temp=data.split(\",\")\n",
        "  Product_details.append(temp[1])\n",
        "  Customer_details.append(temp[3])\n",
        "  Supplier_details.update({temp[0]:temp[2]})\n",
        "  gender.update({temp[3]:temp[4]})\n",
        "\n",
        "fp1.close()\n",
        "\n",
        "Customer_details=tuple(Customer_details)\n",
        "print(type(Customer_details))\n",
        "\n",
        "print(\"\\nProduct_details\\n\",Product_details,end=\"\")\n",
        "print(\"\\n\\nCustomer_details\\n\",Customer_details,end=\"\")\n",
        "print(\"\\n\\nSupplier_details\\n\",Supplier_details,end=\"\")\n",
        "print(\"\\n\\ngender\",gender,end=\"\")\n",
        "\n",
        "frequency={}\n",
        "\n",
        "for item in Product_details:\n",
        "  if item in frequency:\n",
        "    frequency[item] +=1\n",
        "  else:\n",
        "    frequency[item] =1\n",
        "print(frequency)\n",
        "marklist = sorted(frequency.items(), key=lambda x:x[1], reverse=True)\n",
        "sortdict = dict(marklist)\n",
        "print(sortdict)\n",
        "print(\"The most popular product for sales\", list(sortdict.keys())[0],\"sold\", list(sortdict.values())[0],\"times\")\n",
        "\n",
        "frequency={}\n",
        "\n",
        "for item in Supplier_details.values():\n",
        "  if item in frequency:\n",
        "    frequency[item] +=1\n",
        "  else:\n",
        "    frequency[item] =1\n",
        "print(frequency)\n",
        "marklist = sorted(frequency.items(), key=lambda x:x[1], reverse=True)\n",
        "sortdict = dict(marklist)\n",
        "print(sortdict)\n",
        "print(\"The most popular Supplier for sales\", list(sortdict.keys())[0],\"sold\", list(sortdict.values())[0],\"times\")\n",
        "\n",
        "frequency={}\n",
        "\n",
        "for item in Customer_details:\n",
        "  if item in frequency:\n",
        "    frequency[item] +=1\n",
        "  else:\n",
        "    frequency[item] =1\n",
        "print(\"frequency is as below:\\n\",frequency)\n",
        "marklist = sorted(frequency.items(), key=lambda x:x[1], reverse=True)\n",
        "sortdict = dict(marklist)\n",
        "print(sortdict)\n",
        "print(\"The customer who buys most of the products\", list(sortdict.keys())[0],\"buy\", list(sortdict.values())[0],\"times\")\n",
        "\n",
        "from collections import Counter\n",
        "counter = dict(Counter(Customer_details))\n",
        "names=list(counter.keys())\n",
        "print(names)\n",
        "male=0\n",
        "female=0\n",
        "\n",
        "for name in names:\n",
        "  if gender[name]==\"Male\\n\":\n",
        "    male=male+1\n",
        "  if gender[name]==\"Female\\n\":\n",
        "    female+=1\n",
        "print(\"Total number of Male=\", male)\n",
        "print(\"Total number of Female=\", female)"
      ]
    },
    {
      "cell_type": "code",
      "source": [
        "print(\"\\nProduct_details\\n\",Product_details,end=\"\")\n",
        "print(\"\\n\\nCustomer_details\\n\",Customer_details,end=\"\")\n",
        "print(\"\\n\\nSupplier_details\\n\",Supplier_details,end=\"\")\n",
        "print(\"\\n\\ngender\\n\",gender,end=\"\")\n"
      ],
      "metadata": {
        "colab": {
          "base_uri": "https://localhost:8080/"
        },
        "id": "ElgAc2VM-9KV",
        "outputId": "2c0c6aad-3a16-4655-d648-c52f75720735"
      },
      "execution_count": null,
      "outputs": [
        {
          "output_type": "stream",
          "name": "stdout",
          "text": [
            "\n",
            "Product_details\n",
            " ['Lenovo Laptop', 'Samsung M31', 'Realmi 10pro', 'Oppo F21', 'Lenovo Laptop', 'Samsung M31', '\"LG TV 32\"\"\"', 'Oppo F21', 'Lenovo Laptop', 'Samsung M31', '\"LG TV 32\"\"\"', 'Lenovo Laptop', 'Samsung M31', 'Realmi 10pro', 'Lenovo Laptop', 'Oppo F21', '\"LG TV 32\"\"\"', 'Lenovo Laptop', 'Samsung M31', '\"LG TV 32\"\"\"']\n",
            "\n",
            "Customer_details\n",
            " ('Kaustubh Mahajan', 'Siddhi Kiwale', 'Sanket Kandalkar', 'Yash Mali', 'Yash Bagul', 'Siddhi Kiwale', 'Sanket Kandalkar', 'Kaustubh Mahajan', 'Yash Mali', 'Siddhi Kiwale', 'Sanket Kandalkar', 'Kaustubh Mahajan', 'Yash Mali', 'Siddhi Kiwale', 'Tanuja Mali', 'Kaustubh Mahajan', 'Sanket Kandalkar', 'Siddhi Kiwale', 'Kaustubh Mahajan', 'Yash Mali')\n",
            "\n",
            "Supplier_details\n",
            " {'P00001': 'Raka Ele.', 'P00002': 'Vijay Sales', 'P00003': 'Gada Ele.', 'P00004': 'Surya Ele.', 'P00005': 'Raka Ele.', 'P00006': 'Gada Ele.', 'P00007': 'Vijay Sales', 'P00008': 'Surya Ele.', 'P00009': 'Raka Ele.', 'P00010': 'Gada Ele.', 'P00011': 'Surya Ele.', 'P00012': 'Raka Ele.', 'P00013': 'Surya Ele.', 'P00014': 'Raka Ele.', 'P00015': 'Gada Ele.', 'P00016': 'Vijay Sales', 'P00017': 'Deshmukh sales', 'P00018': 'Raka Ele.', 'P00019': 'Deshmukh sales', 'P00020': 'Gada Ele.'}\n",
            "\n",
            "gender {'Kaustubh Mahajan': 'Male\\n', 'Siddhi Kiwale': 'Female\\n', 'Sanket Kandalkar': 'Male\\n', 'Yash Mali': 'Male\\n', 'Yash Bagul': 'Male\\n', 'Tanuja Mali': 'Female\\n'}"
          ]
        }
      ]
    },
    {
      "cell_type": "code",
      "source": [
        "frequency={}\n",
        "\n",
        "for item in Product_details:\n",
        "  if item in frequency:\n",
        "    frequency[item] +=1\n",
        "  else:\n",
        "    frequency[item] =1\n",
        "print(frequency)\n",
        "marklist = sorted(frequency.items(), key=lambda x:x[1], reverse=True)\n",
        "sortdict = dict(marklist)\n",
        "print(sortdict)\n",
        "print(\"The most popular product for sales\", list(sortdict.keys())[0],\"sold\", list(sortdict.values())[0],\"times\")"
      ],
      "metadata": {
        "colab": {
          "base_uri": "https://localhost:8080/"
        },
        "id": "L5EscNIP_oZO",
        "outputId": "cad49430-0b30-4cc4-e41d-6816d789da65"
      },
      "execution_count": null,
      "outputs": [
        {
          "output_type": "stream",
          "name": "stdout",
          "text": [
            "{'Lenovo Laptop': 6, 'Samsung M31': 5, 'Realmi 10pro': 2, 'Oppo F21': 3, '\"LG TV 32\"\"\"': 4}\n",
            "{'Lenovo Laptop': 6, 'Samsung M31': 5, '\"LG TV 32\"\"\"': 4, 'Oppo F21': 3, 'Realmi 10pro': 2}\n",
            "The most popular product for sales Lenovo Laptop sold 6 times\n"
          ]
        }
      ]
    },
    {
      "cell_type": "code",
      "source": [
        "frequency={}\n",
        "\n",
        "for item in Supplier_details.values():\n",
        "  if item in frequency:\n",
        "    frequency[item] +=1\n",
        "  else:\n",
        "    frequency[item] =1\n",
        "print(frequency)\n",
        "marklist = sorted(frequency.items(), key=lambda x:x[1], reverse=True)\n",
        "sortdict = dict(marklist)\n",
        "print(sortdict)\n",
        "print(\"The most popular Supplier for sales\", list(sortdict.keys())[0],\"sold\", list(sortdict.values())[0],\"times\")"
      ],
      "metadata": {
        "colab": {
          "base_uri": "https://localhost:8080/"
        },
        "id": "8oJXPWZRF8An",
        "outputId": "c225562e-a127-4a92-bd48-279d62b19da5"
      },
      "execution_count": null,
      "outputs": [
        {
          "output_type": "stream",
          "name": "stdout",
          "text": [
            "{'Raka Ele.': 6, 'Vijay Sales': 3, 'Gada Ele.': 5, 'Surya Ele.': 4, 'Deshmukh sales': 2}\n",
            "{'Raka Ele.': 6, 'Gada Ele.': 5, 'Surya Ele.': 4, 'Vijay Sales': 3, 'Deshmukh sales': 2}\n",
            "The most popular Supplier for sales Raka Ele. sold 6 times\n"
          ]
        }
      ]
    },
    {
      "cell_type": "code",
      "source": [
        "frequency={}\n",
        "\n",
        "for item in Customer_details:\n",
        "  if item in frequency:\n",
        "    frequency[item] +=1\n",
        "  else:\n",
        "    frequency[item] =1\n",
        "print(\"frequency is as below:\\n\",frequency)\n",
        "marklist = sorted(frequency.items(), key=lambda x:x[1], reverse=True)\n",
        "sortdict = dict(marklist)\n",
        "print(sortdict)\n",
        "print(\"The customer who buys most of the products\", list(sortdict.keys())[0],\"buy\", list(sortdict.values())[0],\"times\")"
      ],
      "metadata": {
        "colab": {
          "base_uri": "https://localhost:8080/"
        },
        "id": "ReD-7uv1NTcK",
        "outputId": "fc202673-a957-44fb-c5c5-493940ccc591"
      },
      "execution_count": null,
      "outputs": [
        {
          "output_type": "stream",
          "name": "stdout",
          "text": [
            "frequency is as below:\n",
            " {'Kaustubh Mahajan': 5, 'Siddhi Kiwale': 5, 'Sanket Kandalkar': 4, 'Yash Mali': 4, 'Yash Bagul': 1, 'Tanuja Mali': 1}\n",
            "{'Kaustubh Mahajan': 5, 'Siddhi Kiwale': 5, 'Sanket Kandalkar': 4, 'Yash Mali': 4, 'Yash Bagul': 1, 'Tanuja Mali': 1}\n",
            "The customer who buys most of the products Kaustubh Mahajan buy 5 times\n"
          ]
        }
      ]
    },
    {
      "cell_type": "code",
      "source": [
        "from collections import Counter\n",
        "counter = dict(Counter(Customer_details))\n",
        "names=list(counter.keys())\n",
        "print(names)\n",
        "male=0\n",
        "female=0\n",
        "\n",
        "for name in names:\n",
        "  if gender[name]==\"Male\":\n",
        "    male=male+1\n",
        "  if gender[name]==\"Female\":\n",
        "    female+=1\n",
        "print(\"Total number of Male=\", male)\n",
        "print(\"Total number of Female=\", female)"
      ],
      "metadata": {
        "colab": {
          "base_uri": "https://localhost:8080/"
        },
        "id": "5Khh0FIMN_Xx",
        "outputId": "24e04ee8-9f10-426a-c4b5-fa2cc97e06cf"
      },
      "execution_count": null,
      "outputs": [
        {
          "output_type": "stream",
          "name": "stdout",
          "text": [
            "['Kaustubh Mahajan', 'Siddhi Kiwale', 'Sanket Kandalkar', 'Yash Mali', 'Yash Bagul', 'Tanuja Mali']\n",
            "Total number of Male= 0\n",
            "Total number of Female= 0\n"
          ]
        }
      ]
    },
    {
      "cell_type": "code",
      "source": [],
      "metadata": {
        "id": "SMkd8DQkPgVR"
      },
      "execution_count": null,
      "outputs": []
    }
  ]
}