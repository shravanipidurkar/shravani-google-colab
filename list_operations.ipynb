{
  "nbformat": 4,
  "nbformat_minor": 0,
  "metadata": {
    "colab": {
      "provenance": [],
      "authorship_tag": "ABX9TyNYoK5y1wGI7L1PJeRFmJet",
      "include_colab_link": true
    },
    "kernelspec": {
      "name": "python3",
      "display_name": "Python 3"
    },
    "language_info": {
      "name": "python"
    }
  },
  "cells": [
    {
      "cell_type": "markdown",
      "metadata": {
        "id": "view-in-github",
        "colab_type": "text"
      },
      "source": [
        "<a href=\"https://colab.research.google.com/github/shravanipidurkar/shravani-google-colab/blob/main/list_operations.ipynb\" target=\"_parent\"><img src=\"https://colab.research.google.com/assets/colab-badge.svg\" alt=\"Open In Colab\"/></a>"
      ]
    },
    {
      "cell_type": "code",
      "execution_count": null,
      "metadata": {
        "colab": {
          "base_uri": "https://localhost:8080/"
        },
        "id": "gHhzchu3oJt8",
        "outputId": "76478978-9a96-4305-ef59-121292267f22"
      },
      "outputs": [
        {
          "output_type": "stream",
          "name": "stdout",
          "text": [
            "['Dollar', 'Euro', 'Pound', 'Yen']\n"
          ]
        }
      ],
      "source": [
        "#append\n",
        "currencies = [\"Dollar\", \"Euro\", \"Pound\"]\n",
        "currencies.append(\"Yen\")\n",
        "print(currencies)\n"
      ]
    },
    {
      "cell_type": "code",
      "source": [
        "#extend\n",
        "prime_numbers = [2, 3, 5]\n",
        "numbers = [0, 1, 4]\n",
        "numbers.extend(prime_numbers)\n",
        "print(\"List after extend():\", numbers)\n"
      ],
      "metadata": {
        "colab": {
          "base_uri": "https://localhost:8080/"
        },
        "id": "ULbiB99polXC",
        "outputId": "6e668024-659e-4d2a-8a8e-f21eec25d7cb"
      },
      "execution_count": null,
      "outputs": [
        {
          "output_type": "stream",
          "name": "stdout",
          "text": [
            "List after extend(): [0, 1, 4, 2, 3, 5]\n"
          ]
        }
      ]
    },
    {
      "cell_type": "code",
      "source": [
        "#insert\n",
        "vowel = ['a', 'e', 'i', 'u']\n",
        "vowel.insert(3, 'o')\n",
        "print('List:', vowel)"
      ],
      "metadata": {
        "colab": {
          "base_uri": "https://localhost:8080/"
        },
        "id": "1VLTtSBEo_fZ",
        "outputId": "19ca4af4-ccfa-48ff-c8c9-7b34728817de"
      },
      "execution_count": null,
      "outputs": [
        {
          "output_type": "stream",
          "name": "stdout",
          "text": [
            "List: ['a', 'e', 'i', 'o', 'u']\n"
          ]
        }
      ]
    },
    {
      "cell_type": "code",
      "source": [
        "#remove\n",
        "prime_numbers = [2, 3, 5, 7, 9, 11]\n",
        "prime_numbers.remove(9)\n",
        "print('Updated List: ', prime_numbers)\n"
      ],
      "metadata": {
        "colab": {
          "base_uri": "https://localhost:8080/"
        },
        "id": "FaoM9OZupPVQ",
        "outputId": "da5d8dd5-2172-48dd-fd2d-7f0fa02bde7f"
      },
      "execution_count": null,
      "outputs": [
        {
          "output_type": "stream",
          "name": "stdout",
          "text": [
            "Updated List:  [2, 3, 5, 7, 11]\n"
          ]
        }
      ]
    },
    {
      "cell_type": "code",
      "source": [
        "#count\n",
        "Numbers = [2, 3, 2, 5, 2, 11, 2, 7, 2]\n",
        "count = numbers.count(2)\n",
        "print('Count of 2:', count)\n"
      ],
      "metadata": {
        "colab": {
          "base_uri": "https://localhost:8080/"
        },
        "id": "qdOqIExUpaBn",
        "outputId": "75e87a47-e0e4-4430-d937-aa50b7abe912"
      },
      "execution_count": null,
      "outputs": [
        {
          "output_type": "stream",
          "name": "stdout",
          "text": [
            "Count of 2: 1\n"
          ]
        }
      ]
    },
    {
      "cell_type": "code",
      "source": [
        "#pop\n",
        "prime_numbers = [2, 3, 5, 7]\n",
        "removed_element = prime_numbers.pop(2)\n",
        "print('Removed Element:', removed_element)\n",
        "print('Updated List:', prime_numbers)\n"
      ],
      "metadata": {
        "colab": {
          "base_uri": "https://localhost:8080/"
        },
        "id": "gwoof2SmptYo",
        "outputId": "fe8cf9d5-a562-4c6b-be99-e190ecb88dbf"
      },
      "execution_count": null,
      "outputs": [
        {
          "output_type": "stream",
          "name": "stdout",
          "text": [
            "Removed Element: 5\n",
            "Updated List: [2, 3, 7]\n"
          ]
        }
      ]
    },
    {
      "cell_type": "code",
      "source": [
        "#reverse\n",
        "prime_numbers = [2, 3, 5, 7]\n",
        "prime_numbers.reverse()\n",
        "print('Reversed List:', prime_numbers)"
      ],
      "metadata": {
        "colab": {
          "base_uri": "https://localhost:8080/"
        },
        "id": "4uAqEfC2qBg4",
        "outputId": "dea460f7-c86a-4a36-a535-66ce376f394c"
      },
      "execution_count": null,
      "outputs": [
        {
          "output_type": "stream",
          "name": "stdout",
          "text": [
            "Reversed List: [7, 5, 3, 2]\n"
          ]
        }
      ]
    },
    {
      "cell_type": "code",
      "source": [
        "#sort\n",
        "prime_numbers = [11, 3, 7, 5, 2]\n",
        "prime_numbers.sort()\n",
        "print(prime_numbers)"
      ],
      "metadata": {
        "colab": {
          "base_uri": "https://localhost:8080/"
        },
        "id": "jBBKTvvKqJan",
        "outputId": "0e827f4c-d1b3-492a-fc18-eeb6a65ee318"
      },
      "execution_count": null,
      "outputs": [
        {
          "output_type": "stream",
          "name": "stdout",
          "text": [
            "[2, 3, 5, 7, 11]\n"
          ]
        }
      ]
    },
    {
      "cell_type": "code",
      "source": [
        "#copy\n",
        "prime_numbers = [2, 3, 5]\n",
        "numbers = prime_numbers.copy()\n",
        "print('Copied List:', numbers)"
      ],
      "metadata": {
        "colab": {
          "base_uri": "https://localhost:8080/"
        },
        "id": "dG8CVcaaqYXY",
        "outputId": "20f32621-a005-4944-89d7-dd3ed9de2426"
      },
      "execution_count": null,
      "outputs": [
        {
          "output_type": "stream",
          "name": "stdout",
          "text": [
            "Copied List: [2, 3, 5]\n"
          ]
        }
      ]
    },
    {
      "cell_type": "code",
      "source": [
        "#clear\n",
        "prime_numbers = [2, 3, 5, 7, 9, 11]\n",
        "prime_numbers.clear()\n",
        "print('List after clear():', prime_numbers)"
      ],
      "metadata": {
        "colab": {
          "base_uri": "https://localhost:8080/"
        },
        "id": "qLz0Ox1wqgV3",
        "outputId": "b5649669-0fcd-46e6-988a-54645243c2c1"
      },
      "execution_count": null,
      "outputs": [
        {
          "output_type": "stream",
          "name": "stdout",
          "text": [
            "List after clear(): []\n"
          ]
        }
      ]
    },
    {
      "cell_type": "code",
      "source": [
        "#index\n",
        "vegetables = ['carrot', 'tomato', 'cabagge', 'potato']\n",
        "index = vegetables.index('potato')\n",
        "print(index)\n"
      ],
      "metadata": {
        "colab": {
          "base_uri": "https://localhost:8080/"
        },
        "id": "KtBhkN7HqvfH",
        "outputId": "7958eca2-d979-406b-c4f5-5bb49be0eb0b"
      },
      "execution_count": null,
      "outputs": [
        {
          "output_type": "stream",
          "name": "stdout",
          "text": [
            "3\n"
          ]
        }
      ]
    },
    {
      "cell_type": "code",
      "source": [
        "#slice\n",
        "print(vegetables[:3])\n",
        "print(vegetables[2:])\n",
        "print(vegetables[2:3])\n",
        "print(vegetables[:])"
      ],
      "metadata": {
        "colab": {
          "base_uri": "https://localhost:8080/"
        },
        "id": "JKotFDhIrxfn",
        "outputId": "d71f82e5-3bc9-4185-e16e-2eee85bacc7d"
      },
      "execution_count": null,
      "outputs": [
        {
          "output_type": "stream",
          "name": "stdout",
          "text": [
            "['carrot', 'tomato', 'cabagge']\n",
            "['cabagge', 'potato']\n",
            "['cabagge']\n",
            "['carrot', 'tomato', 'cabagge', 'potato']\n"
          ]
        }
      ]
    },
    {
      "cell_type": "code",
      "source": [
        "print(len(vegetables))"
      ],
      "metadata": {
        "colab": {
          "base_uri": "https://localhost:8080/"
        },
        "id": "L7Lb6XZhshdu",
        "outputId": "7fe4b65c-5cec-4216-98cd-50646a590f57"
      },
      "execution_count": null,
      "outputs": [
        {
          "output_type": "stream",
          "name": "stdout",
          "text": [
            "4\n"
          ]
        }
      ]
    },
    {
      "cell_type": "code",
      "source": [
        "#min & max\n",
        "print(min(1,2,3,4,5))\n",
        "print(max(1,2,3,4,5))"
      ],
      "metadata": {
        "colab": {
          "base_uri": "https://localhost:8080/"
        },
        "id": "aXMQ_Md3st4X",
        "outputId": "363e1e4a-d4af-4f0b-aeb6-fbd0fc45a426"
      },
      "execution_count": null,
      "outputs": [
        {
          "output_type": "stream",
          "name": "stdout",
          "text": [
            "1\n",
            "5\n"
          ]
        }
      ]
    },
    {
      "cell_type": "code",
      "source": [
        "# concatenate\n",
        "l1=[1,2,3]\n",
        "l2= [4, 5, 'Python', 'is fun!']\n",
        "print(l1+l2)"
      ],
      "metadata": {
        "colab": {
          "base_uri": "https://localhost:8080/"
        },
        "id": "XNQIuYURtfwY",
        "outputId": "9190eb29-9ac6-4b66-d80e-796bc96f035f"
      },
      "execution_count": null,
      "outputs": [
        {
          "output_type": "stream",
          "name": "stdout",
          "text": [
            "[1, 2, 3, 4, 5, 'Python', 'is fun!']\n"
          ]
        }
      ]
    },
    {
      "cell_type": "code",
      "source": [
        "#multiply\n",
        "print(l1*2)"
      ],
      "metadata": {
        "colab": {
          "base_uri": "https://localhost:8080/"
        },
        "id": "uS8IMDmlt5A_",
        "outputId": "d68c6925-fbfc-446a-96ce-5c6d74758b94"
      },
      "execution_count": null,
      "outputs": [
        {
          "output_type": "stream",
          "name": "stdout",
          "text": [
            "[1, 2, 3, 1, 2, 3]\n"
          ]
        }
      ]
    },
    {
      "cell_type": "code",
      "source": [
        "lst=[10,20,30,40,50]\n",
        "print(lst)"
      ],
      "metadata": {
        "colab": {
          "base_uri": "https://localhost:8080/"
        },
        "id": "lnghgKd4m2tE",
        "outputId": "2eabf43f-0c68-4b3b-9ed5-767b27835467"
      },
      "execution_count": null,
      "outputs": [
        {
          "output_type": "stream",
          "name": "stdout",
          "text": [
            "[10, 20, 30, 40, 50]\n"
          ]
        }
      ]
    },
    {
      "cell_type": "code",
      "source": [
        "l=[10,2,5,10,10,20]\n",
        "print(l[1:4])\n",
        "print(l[:5])\n",
        "print(l[2:])\n",
        "print(l[-3:-5])"
      ],
      "metadata": {
        "id": "ORgot9DDnQ9t",
        "colab": {
          "base_uri": "https://localhost:8080/"
        },
        "outputId": "6b47bfd7-bbe1-4042-c1f6-9920acc1ee3c"
      },
      "execution_count": null,
      "outputs": [
        {
          "output_type": "stream",
          "name": "stdout",
          "text": [
            "[2, 5, 10]\n",
            "[10, 2, 5, 10, 10]\n",
            "[5, 10, 10, 20]\n",
            "[]\n"
          ]
        }
      ]
    },
    {
      "cell_type": "code",
      "source": [
        "l1=[0,1,2,3,4,5,6,7,8,9]\n",
        "l1.insert(1,20)\n",
        "print(l1)"
      ],
      "metadata": {
        "id": "XlaxJ_e6raB2",
        "colab": {
          "base_uri": "https://localhost:8080/"
        },
        "outputId": "5343ff2d-096a-4078-8d5d-e900b554ccec"
      },
      "execution_count": null,
      "outputs": [
        {
          "output_type": "stream",
          "name": "stdout",
          "text": [
            "[0, 20, 1, 2, 3, 4, 5, 6, 7, 8, 9]\n"
          ]
        }
      ]
    },
    {
      "cell_type": "code",
      "source": [
        "l1=[0,1,2,3,4,5,6,7,8,9]\n",
        "l2=[33,44,566,99,10]\n",
        "l1.extend(l2)\n",
        "print(l1)"
      ],
      "metadata": {
        "colab": {
          "base_uri": "https://localhost:8080/"
        },
        "id": "KgBWm6wDweJP",
        "outputId": "24b0baf1-d8f8-47db-8b41-b8d6ae1a7acc"
      },
      "execution_count": null,
      "outputs": [
        {
          "output_type": "stream",
          "name": "stdout",
          "text": [
            "[0, 1, 2, 3, 4, 5, 6, 7, 8, 9, 33, 44, 566, 99, 10]\n"
          ]
        }
      ]
    },
    {
      "cell_type": "code",
      "source": [
        "l1=[\"Shravani\",\"Sumati\",\"Sukanya\"]\n",
        "l1.append(\"Tejaswini\")\n",
        "print(l1)"
      ],
      "metadata": {
        "colab": {
          "base_uri": "https://localhost:8080/"
        },
        "id": "hqfaVb2sxZQw",
        "outputId": "3de6b4c1-526c-4af1-e259-fdf1d88646a8"
      },
      "execution_count": null,
      "outputs": [
        {
          "output_type": "stream",
          "name": "stdout",
          "text": [
            "['Shravani', 'Sumati', 'Sukanya', 'Tejaswini']\n"
          ]
        }
      ]
    },
    {
      "cell_type": "code",
      "source": [
        "l=[1,2,3,4,5]\n",
        "tup=(6,7,8,9,10)\n",
        "l.append(tup)\n",
        "print(l)"
      ],
      "metadata": {
        "colab": {
          "base_uri": "https://localhost:8080/"
        },
        "id": "OqpguvFRyB2y",
        "outputId": "1babe81f-c93a-4508-bb82-eb729e01f52f"
      },
      "execution_count": null,
      "outputs": [
        {
          "output_type": "stream",
          "name": "stdout",
          "text": [
            "[1, 2, 3, 4, 5, (6, 7, 8, 9, 10)]\n"
          ]
        }
      ]
    },
    {
      "cell_type": "code",
      "source": [
        "c3=[\"Parth\",\"Om\",\"Sumati\",\"Shravani\",\"Dnyaneshwar\"]\n",
        "newlist=list((\"A\",\"B\",\"C\",\"D\"))\n",
        "print(newlist)\n",
        "l1=list((10,20,30))\n",
        "print(l1)\n",
        "for i in c3:\n",
        "  print(i)\n",
        "print(c3)\n",
        "if \"Atul\" in c3:\n",
        "  print(\"YES\")\n",
        "else:\n",
        "  print(\"N0\")\n"
      ],
      "metadata": {
        "colab": {
          "base_uri": "https://localhost:8080/"
        },
        "id": "oVpBc90_y49g",
        "outputId": "0254872d-f7d1-434c-91ae-84cb7d8761b8"
      },
      "execution_count": null,
      "outputs": [
        {
          "output_type": "stream",
          "name": "stdout",
          "text": [
            "['A', 'B', 'C', 'D']\n",
            "[10, 20, 30]\n",
            "Parth\n",
            "Om\n",
            "Sumati\n",
            "Shravani\n",
            "Dnyaneshwar\n",
            "['Parth', 'Om', 'Sumati', 'Shravani', 'Dnyaneshwar']\n",
            "N0\n"
          ]
        }
      ]
    },
    {
      "cell_type": "code",
      "source": [
        "l1[2]=10\n",
        "print(l1)"
      ],
      "metadata": {
        "colab": {
          "base_uri": "https://localhost:8080/"
        },
        "id": "zDHzLsj320kh",
        "outputId": "c8f52a4a-7b48-45cb-b868-75c41261087e"
      },
      "execution_count": null,
      "outputs": [
        {
          "output_type": "stream",
          "name": "stdout",
          "text": [
            "[10, 10, 10]\n"
          ]
        }
      ]
    },
    {
      "cell_type": "code",
      "source": [
        "c3[1]=\"Phatale\"\n",
        "print(c3)"
      ],
      "metadata": {
        "colab": {
          "base_uri": "https://localhost:8080/"
        },
        "id": "v_x8_A7a04UD",
        "outputId": "b89e2a2b-260d-4a03-95b2-4a54f7ec3a16"
      },
      "execution_count": null,
      "outputs": [
        {
          "output_type": "stream",
          "name": "stdout",
          "text": [
            "['Parth', 'Phatale', 'Sumati', 'Shravani', 'Dnyaneshwar']\n"
          ]
        }
      ]
    },
    {
      "cell_type": "code",
      "source": [
        "l=[10,20,30,40,50,60,70,80,90,100]\n",
        "l.remove(70)\n",
        "print(l)"
      ],
      "metadata": {
        "colab": {
          "base_uri": "https://localhost:8080/"
        },
        "id": "7-zwsUaD6Zov",
        "outputId": "3c0094cc-7f1f-4e2a-c830-f9d3849e484a"
      },
      "execution_count": null,
      "outputs": [
        {
          "output_type": "stream",
          "name": "stdout",
          "text": [
            "[10, 20, 30, 40, 50, 60, 80, 90, 100]\n"
          ]
        }
      ]
    },
    {
      "cell_type": "code",
      "source": [
        "l=[10,20,30,40,50,60,70,80,90,100]\n",
        "l.pop()\n",
        "print(l)"
      ],
      "metadata": {
        "colab": {
          "base_uri": "https://localhost:8080/"
        },
        "id": "saRNB_087nOr",
        "outputId": "26d10291-22aa-46b0-a538-d3996c6f51bc"
      },
      "execution_count": null,
      "outputs": [
        {
          "output_type": "stream",
          "name": "stdout",
          "text": [
            "[10, 20, 30, 40, 50, 60, 70, 80, 90]\n"
          ]
        }
      ]
    },
    {
      "cell_type": "code",
      "source": [
        "del l[2]\n",
        "print(l)"
      ],
      "metadata": {
        "colab": {
          "base_uri": "https://localhost:8080/"
        },
        "id": "YVbGdS3X8EIz",
        "outputId": "7f7471e1-f4ab-4bde-8807-750c3660ad44"
      },
      "execution_count": null,
      "outputs": [
        {
          "output_type": "stream",
          "name": "stdout",
          "text": [
            "[10, 20, 50, 60, 70, 80, 90]\n"
          ]
        }
      ]
    },
    {
      "cell_type": "code",
      "source": [
        "l.clear()\n",
        "print(l)"
      ],
      "metadata": {
        "colab": {
          "base_uri": "https://localhost:8080/"
        },
        "id": "UgYHQiXp82nk",
        "outputId": "ac08c41d-7d2c-410e-fb3f-571c2a2207d6"
      },
      "execution_count": null,
      "outputs": [
        {
          "output_type": "stream",
          "name": "stdout",
          "text": [
            "[]\n"
          ]
        }
      ]
    },
    {
      "cell_type": "code",
      "source": [
        "l=[10, 20,10,5,10,50,100,10]\n",
        "l.count(10)\n",
        "#print(l)"
      ],
      "metadata": {
        "colab": {
          "base_uri": "https://localhost:8080/"
        },
        "id": "k6EadTey9FHB",
        "outputId": "f6a2546e-d140-4076-b710-185c9afa13e6"
      },
      "execution_count": null,
      "outputs": [
        {
          "output_type": "execute_result",
          "data": {
            "text/plain": [
              "4"
            ]
          },
          "metadata": {},
          "execution_count": 49
        }
      ]
    },
    {
      "cell_type": "code",
      "source": [
        "x=l.index(5)\n",
        "print(x)"
      ],
      "metadata": {
        "colab": {
          "base_uri": "https://localhost:8080/"
        },
        "id": "Qn8V8rc79Wgz",
        "outputId": "63175996-6e34-4614-c9bc-2df4283d5d5f"
      },
      "execution_count": null,
      "outputs": [
        {
          "output_type": "stream",
          "name": "stdout",
          "text": [
            "3\n"
          ]
        }
      ]
    },
    {
      "cell_type": "code",
      "source": [],
      "metadata": {
        "id": "ZllpcA299gqU"
      },
      "execution_count": null,
      "outputs": []
    }
  ]
}